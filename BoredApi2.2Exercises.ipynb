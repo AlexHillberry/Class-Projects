{
 "cells": [
  {
   "cell_type": "markdown",
   "id": "e6b76468-163e-4172-9dc3-6d6a3b2a65cf",
   "metadata": {},
   "source": [
    "# 2.2 Exercises\n",
    "# Alexander Hillberry\n",
    "# DSC360-T301 Data Mining: Text Analytics "
   ]
  },
  {
   "cell_type": "code",
   "execution_count": 6,
   "id": "04dd7851-da94-40c6-9e13-85f3457d1e7c",
   "metadata": {
    "tags": []
   },
   "outputs": [
    {
     "name": "stdout",
     "output_type": "stream",
     "text": [
      "Activity: Go for a walk\n",
      "Key: 4286250\n",
      "Link: \n",
      "Participants: 1\n",
      "Price: 0\n",
      "Type: relaxation\n",
      "Accessibility: 0.1\n"
     ]
    }
   ],
   "source": [
    "import requests\n",
    "\n",
    "# Get activity from the Bored API\n",
    "def get_random_activity():\n",
    "    url = \"https://www.boredapi.com/api/activity\"\n",
    "    response = requests.get(url)\n",
    "    return response.json()\n",
    "\n",
    "# Get activity based on key\n",
    "def get_activity_details(activity_key):\n",
    "    url = f\"https://www.boredapi.com/api/activity?key={activity_key}\"\n",
    "    response = requests.get(url)\n",
    "    return response.json()\n",
    "\n",
    "# Get activity\n",
    "random_activity = get_random_activity()\n",
    "\n",
    "# Extract key from the random activity\n",
    "activity_key = random_activity['key']\n",
    "\n",
    "# Get details of the activity using its key\n",
    "activity_details = get_activity_details(activity_key)\n",
    "\n",
    "# Print activity output:\n",
    "print(\"Activity:\", activity_details['activity'])\n",
    "print(\"Key:\", activity_details['key'])\n",
    "print(\"Link:\", activity_details['link'])\n",
    "print(\"Participants:\", activity_details['participants'])\n",
    "print(\"Price:\", activity_details['price'])\n",
    "print(\"Type:\", activity_details['type'])\n",
    "print(\"Accessibility:\", activity_details['accessibility'])\n"
   ]
  },
  {
   "cell_type": "code",
   "execution_count": null,
   "id": "70cc4141-dec0-4da3-aa14-9ec97cb1ed5e",
   "metadata": {},
   "outputs": [],
   "source": []
  }
 ],
 "metadata": {
  "kernelspec": {
   "display_name": "Python 3 (ipykernel)",
   "language": "python",
   "name": "python3"
  },
  "language_info": {
   "codemirror_mode": {
    "name": "ipython",
    "version": 3
   },
   "file_extension": ".py",
   "mimetype": "text/x-python",
   "name": "python",
   "nbconvert_exporter": "python",
   "pygments_lexer": "ipython3",
   "version": "3.11.8"
  }
 },
 "nbformat": 4,
 "nbformat_minor": 5
}
