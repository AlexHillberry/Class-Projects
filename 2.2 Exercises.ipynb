{
 "cells": [
  {
   "cell_type": "markdown",
   "id": "3fc854e0-0bf6-4bdb-94c8-a48827fb669e",
   "metadata": {},
   "source": [
    "# Alex Hillberry\n",
    "# DSC350 Data Wrangling for Data Science \n",
    "# 2.2 Exercise"
   ]
  },
  {
   "cell_type": "markdown",
   "id": "3edf3ba3-32a5-41ac-80ba-6e5d0bccad00",
   "metadata": {},
   "source": [
    "### Problem 1:\n",
    "\n",
    "The vector a holds the squares of integers 0 to n; for instance, if n is equal to 3, a contains 0, 1, or 4. The vector b holds the cubes of integers 0 to n, so if n is equal is 3, then the vector b is equal to 0, 1, or 8. How would you solve using python and then how would you solve using NumPy? (Hint: See GitHub Repo for the book, Chapter01 > ch-01.ipynb – make sure you include comments in your code)."
   ]
  },
  {
   "cell_type": "code",
   "execution_count": 8,
   "id": "e1e38ece-560c-45d3-b429-f2acdd51d001",
   "metadata": {
    "tags": []
   },
   "outputs": [
    {
     "name": "stdout",
     "output_type": "stream",
     "text": [
      "A is equal to: [0, 1, 4]\n",
      "B is equal to: [0, 1, 8]\n"
     ]
    }
   ],
   "source": [
    "#Set n equal to 3\n",
    "n = 3\n",
    "\n",
    "#Set Vector A equal to the squares of n exclusive\n",
    "A = [i**2 for i in range(n)]\n",
    "#Set Vector B equal to the cubes of n exclusive\n",
    "B = [i**3 for i in range(n)]\n",
    "\n",
    "#Print A and B\n",
    "print(\"A is equal to:\", A)\n",
    "print(\"B is equal to:\", B)"
   ]
  },
  {
   "cell_type": "code",
   "execution_count": 9,
   "id": "954f95d9-6715-4cc0-bcbf-46b928c0e782",
   "metadata": {
    "tags": []
   },
   "outputs": [
    {
     "name": "stdout",
     "output_type": "stream",
     "text": [
      "A is equal to: [0 1 4]\n",
      "B is equal to: [0 1 8]\n"
     ]
    }
   ],
   "source": [
    "import numpy as np\n",
    "\n",
    "#Set n equal to 3\n",
    "n= 3\n",
    "\n",
    "#Set Vector A equal to the squares of n exclusive\n",
    "A = np.arange(n)**2\n",
    "\n",
    "#Set Vector B equal to the cubes of n exclusive\n",
    "B= np.arange(n)**3\n",
    "\n",
    "#Print A and B\n",
    "print(\"A is equal to:\", A)\n",
    "print(\"B is equal to:\", B)"
   ]
  },
  {
   "cell_type": "markdown",
   "id": "7fd53905-a328-42b7-bd63-01643d4bcbb7",
   "metadata": {},
   "source": [
    "### Problem 2:\n",
    "\n",
    "Load the iris dataset, print a description of the dataset, and plot column 1 (sepal length) as x and column 2 (sepal width) as y (Hint: See GitHub Repo for the book, Chapter01 > ch-01.ipynb – make sure you include comments in your code)."
   ]
  },
  {
   "cell_type": "code",
   "execution_count": 11,
   "id": "dab2aff4-a620-4927-b4a9-25e26532b5fa",
   "metadata": {
    "tags": []
   },
   "outputs": [
    {
     "name": "stdout",
     "output_type": "stream",
     "text": [
      ".. _iris_dataset:\n",
      "\n",
      "Iris plants dataset\n",
      "--------------------\n",
      "\n",
      "**Data Set Characteristics:**\n",
      "\n",
      ":Number of Instances: 150 (50 in each of three classes)\n",
      ":Number of Attributes: 4 numeric, predictive attributes and the class\n",
      ":Attribute Information:\n",
      "    - sepal length in cm\n",
      "    - sepal width in cm\n",
      "    - petal length in cm\n",
      "    - petal width in cm\n",
      "    - class:\n",
      "            - Iris-Setosa\n",
      "            - Iris-Versicolour\n",
      "            - Iris-Virginica\n",
      "\n",
      ":Summary Statistics:\n",
      "\n",
      "============== ==== ==== ======= ===== ====================\n",
      "                Min  Max   Mean    SD   Class Correlation\n",
      "============== ==== ==== ======= ===== ====================\n",
      "sepal length:   4.3  7.9   5.84   0.83    0.7826\n",
      "sepal width:    2.0  4.4   3.05   0.43   -0.4194\n",
      "petal length:   1.0  6.9   3.76   1.76    0.9490  (high!)\n",
      "petal width:    0.1  2.5   1.20   0.76    0.9565  (high!)\n",
      "============== ==== ==== ======= ===== ====================\n",
      "\n",
      ":Missing Attribute Values: None\n",
      ":Class Distribution: 33.3% for each of 3 classes.\n",
      ":Creator: R.A. Fisher\n",
      ":Donor: Michael Marshall (MARSHALL%PLU@io.arc.nasa.gov)\n",
      ":Date: July, 1988\n",
      "\n",
      "The famous Iris database, first used by Sir R.A. Fisher. The dataset is taken\n",
      "from Fisher's paper. Note that it's the same as in R, but not as in the UCI\n",
      "Machine Learning Repository, which has two wrong data points.\n",
      "\n",
      "This is perhaps the best known database to be found in the\n",
      "pattern recognition literature.  Fisher's paper is a classic in the field and\n",
      "is referenced frequently to this day.  (See Duda & Hart, for example.)  The\n",
      "data set contains 3 classes of 50 instances each, where each class refers to a\n",
      "type of iris plant.  One class is linearly separable from the other 2; the\n",
      "latter are NOT linearly separable from each other.\n",
      "\n",
      "|details-start|\n",
      "**References**\n",
      "|details-split|\n",
      "\n",
      "- Fisher, R.A. \"The use of multiple measurements in taxonomic problems\"\n",
      "  Annual Eugenics, 7, Part II, 179-188 (1936); also in \"Contributions to\n",
      "  Mathematical Statistics\" (John Wiley, NY, 1950).\n",
      "- Duda, R.O., & Hart, P.E. (1973) Pattern Classification and Scene Analysis.\n",
      "  (Q327.D83) John Wiley & Sons.  ISBN 0-471-22361-1.  See page 218.\n",
      "- Dasarathy, B.V. (1980) \"Nosing Around the Neighborhood: A New System\n",
      "  Structure and Classification Rule for Recognition in Partially Exposed\n",
      "  Environments\".  IEEE Transactions on Pattern Analysis and Machine\n",
      "  Intelligence, Vol. PAMI-2, No. 1, 67-71.\n",
      "- Gates, G.W. (1972) \"The Reduced Nearest Neighbor Rule\".  IEEE Transactions\n",
      "  on Information Theory, May 1972, 431-433.\n",
      "- See also: 1988 MLC Proceedings, 54-64.  Cheeseman et al\"s AUTOCLASS II\n",
      "  conceptual clustering system finds 3 classes in the data.\n",
      "- Many, many more ...\n",
      "\n",
      "|details-end|\n",
      "\n"
     ]
    },
    {
     "data": {
      "image/png": "[encoded data removed]",
      "text/plain": [
       "<Figure size 800x600 with 2 Axes>"
      ]
     },
     "metadata": {},
     "output_type": "display_data"
    }
   ],
   "source": [
    "from sklearn.datasets import load_iris\n",
    "import matplotlib.pyplot as plt\n",
    "import numpy as np\n",
    "\n",
    "# Load the Iris dataset\n",
    "iris = load_iris()\n",
    "\n",
    "# Print the description of the dataset\n",
    "print(iris.DESCR)\n",
    "\n",
    "# Extract sepal length and sepal width from the dataset\n",
    "sepal_length = iris.data[:, 0]  # column 1\n",
    "sepal_width = iris.data[:, 1]   # column 2\n",
    "\n",
    "# Plot sepal length against sepal width with 'inferno' colormap\n",
    "plt.figure(figsize=(8, 6))\n",
    "plt.scatter(sepal_length, sepal_width, c=sepal_length, cmap='viridis')\n",
    "plt.colorbar(label='Sepal Length (cm)')\n",
    "plt.xlabel('Sepal Length (cm)')\n",
    "plt.ylabel('Sepal Width (cm)')\n",
    "plt.title('Sepal Length vs Sepal Width from the Iris Dataset')\n",
    "plt.grid(True)\n",
    "plt.show()\n"
   ]
  },
  {
   "cell_type": "markdown",
   "id": "33b02541-ce2f-4100-ba17-0ee54b8a33b0",
   "metadata": {
    "tags": []
   },
   "source": [
    "### Problem 3:\n",
    "Load the boston dataset, print the description of the dataset and plot column 3 (proportion of non-retail business) as x and column 5 (nitric oxide concentration) as y, with each point on the plot marked with a + sign \n",
    "(Hint: See GitHub Repo for the book, Chapter01 > ch-01.ipynb – make sure you include comments in your code)."
   ]
  },
  {
   "cell_type": "code",
   "execution_count": 34,
   "id": "088d71fd-ec51-42e9-8a0a-b15f43e91659",
   "metadata": {
    "tags": []
   },
   "outputs": [
    {
     "data": {
      "image/png": "[encoded data removed]",
      "text/plain": [
       "<Figure size 640x480 with 1 Axes>"
      ]
     },
     "metadata": {},
     "output_type": "display_data"
    }
   ],
   "source": [
    "import pandas as pd\n",
    "import numpy as np\n",
    "import matplotlib.pyplot as plt\n",
    "\n",
    "# Load the Boston housing dataset from the original source\n",
    "data_url = \"http://lib.stat.cmu.edu/datasets/boston\"\n",
    "raw_df = pd.read_csv(data_url, sep=\"\\s+\", skiprows=22, header=None)\n",
    "\n",
    "# Combine the data and target variables\n",
    "data = np.hstack([raw_df.values[::2, :], raw_df.values[1::2, :2]])\n",
    "target = raw_df.values[1::2, 2]\n",
    "\n",
    "# Extract column 3 (proportion of non-retail business) and column 5 (nitric oxide concentration)\n",
    "X = data[:, 2]  # Column 3\n",
    "y = data[:, 4]  # Column 5\n",
    "\n",
    "# Plot the data\n",
    "plt.scatter(X, y,s=15, c='purple')\n",
    "plt.xlabel('Proportion of non-retail business')\n",
    "plt.ylabel('Nitric oxide concentration')\n",
    "plt.title('Proportion of non-retail business vs Nitric oxide concentration')\n",
    "plt.grid(True)\n",
    "plt.show()\n",
    "\n"
   ]
  },
  {
   "cell_type": "markdown",
   "id": "d38fe82f-228d-4026-a0e4-2be639a008e6",
   "metadata": {},
   "source": [
    "### Problem 4:\n",
    "Create a multi-dimensional array (Hint: See GitHub repo for the book, Chapter02 > ch-02.ipynb – make sure you include comments in your code).\n"
   ]
  },
  {
   "cell_type": "code",
   "execution_count": 49,
   "id": "6b298a19-ba65-46f0-9a97-14dc6465d8ef",
   "metadata": {
    "tags": []
   },
   "outputs": [
    {
     "name": "stdout",
     "output_type": "stream",
     "text": [
      "[[0 1 2]\n",
      " [0 1 2]]\n",
      "Shape: (2, 3)\n"
     ]
    }
   ],
   "source": [
    "import numpy as np\n",
    "\n",
    "# Create a multidimensional array\n",
    "array = np.array([np.arange(3), np.arange(3)])\n",
    "\n",
    "# Print the array\n",
    "print(array)\n",
    "\n",
    "# Print the shape of the array\n",
    "print(\"Shape:\", array.shape)\n"
   ]
  },
  {
   "cell_type": "markdown",
   "id": "e2325265-464e-40c4-924f-7e2de9db2df9",
   "metadata": {},
   "source": [
    "### Problem 5:\n",
    "Produce an array of single precision floats (Hint: See GitHub repo for the book, Chapter02 > ch-02.ipynb – make sure you include comments in your code)."
   ]
  },
  {
   "cell_type": "code",
   "execution_count": 59,
   "id": "bdcd5393-971d-46f7-89f5-8f1c94b593b4",
   "metadata": {
    "tags": []
   },
   "outputs": [
    {
     "name": "stdout",
     "output_type": "stream",
     "text": [
      "[1. 2. 3. 4.]\n",
      "Array is float32\n"
     ]
    }
   ],
   "source": [
    "import numpy as np\n",
    "\n",
    "# Create an array of single-precision floats\n",
    "single_precision_array = np.array([1.0, 2.0, 3.0, 4.0], dtype=np.float32)\n",
    "\n",
    "# Print the array\n",
    "print(double_precision_array)\n",
    "\n",
    "# Prove the array type\n",
    "print(\"Array is\", double_precision_array.dtype)\n"
   ]
  },
  {
   "cell_type": "markdown",
   "id": "4cb5b1f0-3297-42f3-83b3-bcca11a6e0f6",
   "metadata": {},
   "source": [
    "### Problem 6:\n",
    "Produce an array of complex numbers (Hint: See GitHub repo for the book, Chapter02 > ch-02.ipynb – make sure you include comments in your code)."
   ]
  },
  {
   "cell_type": "code",
   "execution_count": 70,
   "id": "3889f3b9-4ec0-4bc8-b16f-5a20c4a056a4",
   "metadata": {
    "tags": []
   },
   "outputs": [
    {
     "name": "stdout",
     "output_type": "stream",
     "text": [
      "[1.+2.j 3.+4.j 5.+6.j]\n",
      "Array is: complex128\n"
     ]
    }
   ],
   "source": [
    "import numpy as np\n",
    "\n",
    "# Create an array of complex numbers\n",
    "array = np.array([1 + 2j, 3 + 4j, 5 + 6j])\n",
    "\n",
    "# Print the array\n",
    "print(array)\n",
    "\n",
    "# Print the data type of the array\n",
    "print(\"Array is:\", array.dtype)\n",
    "\n"
   ]
  },
  {
   "cell_type": "markdown",
   "id": "5398f6af-9734-4f12-8e78-94e1db151f58",
   "metadata": {},
   "source": [
    "### Problem 7:\n",
    "Define an array containing the numbers 0, 1, 2, and so on up to and including 8. Select a part of the array from indexes 3 to 7, which extract the elements of the arrays 3 through 6. Choose elements from an index of 0 to 7 with an increment of 2. Then reverse the array (Hint: See GitHub repo for the book, Chapter02 > ch-02.ipynb – make sure you include comments in your code)."
   ]
  },
  {
   "cell_type": "code",
   "execution_count": 80,
   "id": "ce3ab793-7edb-4bf6-a312-e63432625946",
   "metadata": {
    "tags": []
   },
   "outputs": [
    {
     "name": "stdout",
     "output_type": "stream",
     "text": [
      "Original array: [0 1 2 3 4 5 6 7 8]\n",
      "Selected elements 3 through 7: [3 4 5 6]\n",
      "Selected every other element from index 0 to 7 (increment of 2): [0 2 4 6]\n",
      "Reversed array: [8 7 6 5 4 3 2 1 0]\n"
     ]
    }
   ],
   "source": [
    "import numpy as np\n",
    "\n",
    "# Define an array containing numbers from 0 to 8\n",
    "array = np.arange(9)\n",
    "\n",
    "# Select a part of the array from indexes 3 to 7\n",
    "part_of_array = array[3:7]\n",
    "\n",
    "# Choose elements from an index of 0 to 7 with an increment of 2\n",
    "increment_2 = array[:8:2]\n",
    "\n",
    "# Reverse the array\n",
    "reversed_array = array[::-1]\n",
    "\n",
    "# Reshape the array into a 3x3 matrix\n",
    "reshaped_array = array.reshape(3, 3)\n",
    "\n",
    "# Print the results\n",
    "print(\"Original array:\", array)\n",
    "print(\"Selected elements 3 through 7:\", part_of_array)\n",
    "print(\"Selected every other element from index 0 to 7 (increment of 2):\", increment_2)\n",
    "print(\"Reversed array:\", reversed_array)\n",
    "\n"
   ]
  },
  {
   "cell_type": "markdown",
   "id": "19378377-66c0-4a55-b94d-09dc30651f21",
   "metadata": {},
   "source": [
    "### Problem 8:\n",
    "Starting on page 34 of your text, create an array and perform the following functions (Hint: See GitHub repo for the book, Chapter02 > ch-02.ipynb – make sure you include comments in your code):\n",
    "Ravel\n",
    "Flatten\n",
    "Setting the shape with a tuple\n",
    "Transpose\n",
    "Resize"
   ]
  },
  {
   "cell_type": "code",
   "execution_count": 88,
   "id": "5a69cac1-c5df-487c-a142-9e28d45ecee7",
   "metadata": {
    "tags": []
   },
   "outputs": [
    {
     "name": "stdout",
     "output_type": "stream",
     "text": [
      "Original array:\n",
      "[[ 0  1  2  3]\n",
      " [ 4  5  6  7]\n",
      " [ 8  9 10 11]]\n",
      "\n",
      "Raveled array:\n",
      "[ 0  1  2  3  4  5  6  7  8  9 10 11]\n",
      "\n",
      "Flattened array:\n",
      "[ 0  1  2  3  4  5  6  7  8  9 10 11]\n",
      "\n",
      "Array reshaped to shape (2, 6):\n",
      "[[ 0  1  2  3  4  5]\n",
      " [ 6  7  8  9 10 11]]\n",
      "\n",
      "Transposed array:\n",
      "[[ 0  4  8]\n",
      " [ 1  5  9]\n",
      " [ 2  6 10]\n",
      " [ 3  7 11]]\n",
      "\n",
      "Array resized to shape (2, 6):\n",
      "[[ 0  1  2  3  4  5]\n",
      " [ 6  7  8  9 10 11]]\n"
     ]
    }
   ],
   "source": [
    "import numpy as np\n",
    "\n",
    "# Create an array\n",
    "array = np.arange(12).reshape(3, 4)\n",
    "print(\"Original array:\")\n",
    "print(array)\n",
    "print()\n",
    "\n",
    "# Ravel\n",
    "raveled_array = array.ravel()\n",
    "print(\"Raveled array:\")\n",
    "print(raveled_array)\n",
    "print()\n",
    "\n",
    "# Flatten\n",
    "flattened_array = array.flatten()\n",
    "print(\"Flattened array:\")\n",
    "print(flattened_array)\n",
    "print()\n",
    "\n",
    "# Tuple\n",
    "array_shape_tuple = (2, 6)\n",
    "array_reshaped = array.reshape(array_shape_tuple)\n",
    "print(f\"Array reshaped to shape {array_shape_tuple}:\")\n",
    "print(array_reshaped)\n",
    "print()\n",
    "\n",
    "# Transpose\n",
    "transposed_array = array.T\n",
    "print(\"Transposed array:\")\n",
    "print(transposed_array)\n",
    "print()\n",
    "\n",
    "# Resize\n",
    "new_shape = (2, 6)\n",
    "array.resize(new_shape)\n",
    "print(f\"Array resized to shape {new_shape}:\")\n",
    "print(array)\n"
   ]
  },
  {
   "cell_type": "markdown",
   "id": "7c1476c6-17ec-4623-97ea-a78537a90d16",
   "metadata": {},
   "source": [
    "### Problem 9:\n",
    "Starting on page 41 of your text, create an array and find the following properties (Hint: See GitHub repo for the book, Chapter02 > ch-02.ipynb – make sure you include comments in your code):\n",
    "Number of dimensions\n",
    "Count of elements\n",
    "Count of bytes\n",
    "Full count of bytes"
   ]
  },
  {
   "cell_type": "code",
   "execution_count": 105,
   "id": "3a846ea1-fc24-4e06-b6de-a682796fd8ed",
   "metadata": {
    "tags": []
   },
   "outputs": [
    {
     "name": "stdout",
     "output_type": "stream",
     "text": [
      "Array:\n",
      "[[[ 0  1  2  3]\n",
      "  [ 4  5  6  7]\n",
      "  [ 8  9 10 11]]\n",
      "\n",
      " [[12 13 14 15]\n",
      "  [16 17 18 19]\n",
      "  [20 21 22 23]]]\n",
      "\n",
      "Number of dimensions: 3\n",
      "Count of elements: 24\n",
      "Count of bytes: 96\n",
      "Full count of bytes: 96\n"
     ]
    }
   ],
   "source": [
    "import numpy as np\n",
    "\n",
    "# Create an array\n",
    "array = np.arange(24).reshape(2, 3, 4)\n",
    "print(\"Array:\")\n",
    "print(array)\n",
    "print()\n",
    "\n",
    "# Number of dimensions\n",
    "num_dimensions = array.ndim\n",
    "print(\"Number of dimensions:\", num_dimensions)\n",
    "\n",
    "# Count of elements\n",
    "count_elements = array.size\n",
    "print(\"Count of elements:\", count_elements)\n",
    "\n",
    "# Count of bytes\n",
    "count_bytes = array.nbytes\n",
    "print(\"Count of bytes:\", count_bytes)\n",
    "\n",
    "# Full count of bytes\n",
    "full_count_bytes = array.itemsize * array.size\n",
    "print(\"Full count of bytes:\", full_count_bytes)\n"
   ]
  },
  {
   "cell_type": "markdown",
   "id": "9f4d55ad-ac78-477c-b005-e8a85ae30707",
   "metadata": {},
   "source": [
    "### Problem 10:\n",
    "Starting on page 45 of your text, convert an array to a Python list (Hint: See GitHub repo for the book, Chapter02 > ch-02.ipynb – make sure you include comments in your code)."
   ]
  },
  {
   "cell_type": "code",
   "execution_count": 103,
   "id": "e5018622-8c73-483a-97bf-97664af37429",
   "metadata": {
    "tags": []
   },
   "outputs": [
    {
     "name": "stdout",
     "output_type": "stream",
     "text": [
      "Array:\n",
      "[[ 0  1  2  3]\n",
      " [ 4  5  6  7]\n",
      " [ 8  9 10 11]]\n",
      "\n",
      "Converted Python list:\n",
      "[[0, 1, 2, 3], [4, 5, 6, 7], [8, 9, 10, 11]]\n"
     ]
    }
   ],
   "source": [
    "import numpy as np\n",
    "\n",
    "# Create an array\n",
    "array = np.arange(12).reshape(3, 4)\n",
    "print(\"Array:\")\n",
    "print(array)\n",
    "print()\n",
    "\n",
    "# Convert array to a Python list\n",
    "list = array.tolist()\n",
    "\n",
    "# Print the list\n",
    "print(\"Converted Python list:\")\n",
    "print(list)\n"
   ]
  },
  {
   "cell_type": "code",
   "execution_count": null,
   "id": "a3f4ce5f-4128-4ed4-81b4-65f7e6215153",
   "metadata": {},
   "outputs": [],
   "source": []
  }
 ],
 "metadata": {
  "kernelspec": {
   "display_name": "Python 3 (ipykernel)",
   "language": "python",
   "name": "python3"
  },
  "language_info": {
   "codemirror_mode": {
    "name": "ipython",
    "version": 3
   },
   "file_extension": ".py",
   "mimetype": "text/x-python",
   "name": "python",
   "nbconvert_exporter": "python",
   "pygments_lexer": "ipython3",
   "version": "3.11.8"
  }
 },
 "nbformat": 4,
 "nbformat_minor": 5
}
