{
 "cells": [
  {
   "cell_type": "markdown",
   "id": "655b088a",
   "metadata": {},
   "source": [
    "# 1.2 Exercise\n",
    "Alexander Hillberry\n",
    "\n",
    "DSC 320-T301\n",
    "\n",
    "a)"
   ]
  },
  {
   "cell_type": "code",
   "execution_count": null,
   "id": "81d15fd6",
   "metadata": {},
   "outputs": [],
   "source": [
    "# Use numpy package to calculate RMSE of dataset\n",
    "import numpy as np\n",
    "def calculate_rmse (actual_values, predicted_values):\n",
    "# Checks if input arrays have the same length. This is important because array length must be equal for RMSE to calc properly.\n",
    "    if len(actual_values) != len(predicted_values):\n",
    "        raise ValueError(\"Input arrays must have the same length.\")\n",
    "# RMSE doesn't exist as function in numpy. It feels complicated, so we can calculate it via a different method.\n",
    "# We can calculate the squared difference between each corresponding pair of actual and predicted values, \n",
    "# take the average of these squared differences, and then take the square root of that average to get the RMSE and return that value.\n",
    "    rmse = np.sqrt(np.mean((actual_values - predicted_values) ** 2))\n",
    "\n",
    "    return rmse\n",
    "# We can then print a nice statement on what the RMSE is by writing an f-string.\n",
    "rmse_result = calculate_rmse(actual_values, predicted_values)\n",
    "print(f\"RMSE: {rmse_result}\")\n",
    "\n"
   ]
  },
  {
   "cell_type": "markdown",
   "id": "6652ac0e",
   "metadata": {},
   "source": [
    "b) "
   ]
  },
  {
   "cell_type": "code",
   "execution_count": null,
   "id": "2769d6d7",
   "metadata": {},
   "outputs": [],
   "source": [
    "import numpy as np\n",
    "import pandas as pd\n",
    "\n",
    "# Load the dataset\n",
    "data = pd.read_csv(\"housing_data.csv\")\n",
    "\n",
    "# Extract the \"sale_price\" and \"sale_price_pred\" columns\n",
    "actual_prices = data[\"sale_price\"]\n",
    "predicted_prices = data[\"sale_price_pred\"]\n",
    "\n",
    "# Define your RMSE function\n",
    "def calculate_rmse(actual_values, predicted_values):\n",
    "    if len(actual_values) != len(predicted_values):\n",
    "        raise ValueError(\"Input arrays must have the same length.\")\n",
    "    rmse = np.sqrt(np.mean((actual_values - predicted_values) ** 2))\n",
    "    return rmse\n",
    "\n",
    "# Calculate RMSE for the specified columns\n",
    "rmse_result = calculate_rmse(actual_prices, predicted_prices)\n",
    "\n",
    "# Print the calculated RMSE with a descriptive label\n",
    "print(f\"Root Mean Squared Error (RMSE) between 'sale_price' and 'sale_price_pred': {rmse_result}\")\n"
   ]
  }
 ],
 "metadata": {
  "kernelspec": {
   "display_name": "Python 3 (ipykernel)",
   "language": "python",
   "name": "python3"
  },
  "language_info": {
   "codemirror_mode": {
    "name": "ipython",
    "version": 3
   },
   "file_extension": ".py",
   "mimetype": "text/x-python",
   "name": "python",
   "nbconvert_exporter": "python",
   "pygments_lexer": "ipython3",
   "version": "3.11.4"
  }
 },
 "nbformat": 4,
 "nbformat_minor": 5
}
