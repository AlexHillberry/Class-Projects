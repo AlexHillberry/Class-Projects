{
 "cells": [
  {
   "cell_type": "markdown",
   "id": "38ae4319",
   "metadata": {},
   "source": [
    "# 1.2 Exercise\n",
    "# Alexander Hillberry\n",
    "\n",
    "# DSC 320-T301\n",
    "\n",
    "\n",
    "\n",
    "# 1a)"
   ]
  },
  {
   "cell_type": "code",
   "execution_count": 19,
   "id": "5ba8a8b3",
   "metadata": {},
   "outputs": [
    {
     "name": "stdout",
     "output_type": "stream",
     "text": [
      "RMSE: 0.39099917455816946\n"
     ]
    }
   ],
   "source": [
    "# Use numpy package to calculate RMSE of dataset\n",
    "import numpy as np\n",
    "def calculate_rmse (actual_values, predicted_values):\n",
    "# Checks if input arrays have the same length. This is important because array length must be equal for RMSE to calc properly.\n",
    "    if len(actual_values) != len(predicted_values):\n",
    "        raise ValueError(\"Input arrays must have the same length.\")\n",
    "# RMSE doesn't exist as function in numpy. It feels complicated, so we can calculate it via a different method.\n",
    "# We can calculate the squared difference between each corresponding pair of actual and predicted values, \n",
    "# take the average of these squared differences, and then take the square root of that average to get the RMSE and return that value.\n",
    "    rmse = np.sqrt(np.mean((actual_values - predicted_values) ** 2))\n",
    "\n",
    "    return rmse\n",
    "# We can then print a nice statement on what the RMSE is by writing an f-string.\n",
    "rmse_result = calculate_rmse(actual_values, predicted_values)\n",
    "print(f\"RMSE: {rmse_result}\")\n",
    "\n"
   ]
  },
  {
   "cell_type": "markdown",
   "id": "7d749bdb",
   "metadata": {},
   "source": [
    "# 1b) "
   ]
  },
  {
   "cell_type": "code",
   "execution_count": 20,
   "id": "8e19801c",
   "metadata": {},
   "outputs": [
    {
     "name": "stdout",
     "output_type": "stream",
     "text": [
      "Root Mean Squared Error (RMSE) between 'sale_price' and 'sale_price_pred': 55064.0688338987\n"
     ]
    }
   ],
   "source": [
    "import numpy as np\n",
    "import pandas as pd\n",
    "\n",
    "# Load the dataset\n",
    "file_path = r'D:\\OneDrive - Bellevue University\\DSC 320\\week1data\\housing_data.csv'\n",
    "data = pd.read_csv(file_path)\n",
    "\n",
    "# Extract the \"sale_price\" and \"sale_price_pred\" from dataset\n",
    "actual_prices = data[\"sale_price\"]\n",
    "predicted_prices = data[\"sale_price_pred\"]\n",
    "\n",
    "# Define function for RMSE\n",
    "def calculate_rmse(actual_values, predicted_values):\n",
    "    if len(actual_values) != len(predicted_values):\n",
    "        raise ValueError(\"Input arrays must have the same length.\")\n",
    "    rmse = np.sqrt(np.mean((actual_values - predicted_values) ** 2))\n",
    "    return rmse\n",
    "\n",
    "# Calculate RMSE for the specified columns\n",
    "rmse_result = calculate_rmse(actual_prices, predicted_prices)\n",
    "\n",
    "# Print the calculated RMSE with a descriptive label\n",
    "print(f\"Root Mean Squared Error (RMSE) between 'sale_price' and 'sale_price_pred': {rmse_result}\")\n"
   ]
  },
  {
   "cell_type": "markdown",
   "id": "569484e1",
   "metadata": {},
   "source": [
    "# 2a)"
   ]
  },
  {
   "cell_type": "code",
   "execution_count": null,
   "id": "538e973a",
   "metadata": {},
   "outputs": [],
   "source": [
    "import numpy as np\n",
    "# Define MAE function\n",
    "def calculate_mae(actual_values, predicted_values):\n",
    "    if len(actual_values) != len(predicted_values):\n",
    "        raise ValueError(\"Input arrays must have the same length.\")\n",
    "    mae = np.mean(np.abs(actual_values - predicted_values))\n",
    "    return mae\n",
    "\n",
    "# Calculate MAE for the specified columns\n",
    "mae_result = calculate_mae(actual_prices, predicted_prices)\n",
    "print(f\"Mean Absolute Error (MAE) between 'sale_price' and 'sale_price_pred': {mae_result}\")\n"
   ]
  },
  {
   "cell_type": "markdown",
   "id": "861fc5f3",
   "metadata": {},
   "source": [
    "# 2b)"
   ]
  },
  {
   "cell_type": "code",
   "execution_count": 11,
   "id": "b24aef4e",
   "metadata": {},
   "outputs": [
    {
     "name": "stdout",
     "output_type": "stream",
     "text": [
      "Mean Absolute Error (MAE) between 'sale_price' and 'sale_price_pred': 37438.68916270548\n"
     ]
    }
   ],
   "source": [
    "import numpy as np\n",
    "import pandas as pd\n",
    "\n",
    "# Load the data from the CSV file\n",
    "file_path = r'D:\\OneDrive - Bellevue University\\DSC 320\\week1data\\housing_data.csv'\n",
    "data = pd.read_csv(file_path)\n",
    "\n",
    "\n",
    "# Extract the \"sale_price_predict\" and \"sale_price\" from dataset.\n",
    "actual_prices = data[\"sale_price\"]\n",
    "predicted_prices = data[\"sale_price_pred\"]\n",
    "\n",
    "# Define MAE function\n",
    "def calculate_mae(actual_values, predicted_values):\n",
    "    if len(actual_values) != len(predicted_values):\n",
    "        raise ValueError(\"Input arrays must have the same length.\")\n",
    "    mae = np.mean(np.abs(actual_values - predicted_values))\n",
    "    return mae\n",
    "\n",
    "# Calculate MAE for the specified columns\n",
    "mae_result = calculate_mae(actual_prices, predicted_prices)\n",
    "print(f\"Mean Absolute Error (MAE) between 'sale_price' and 'sale_price_pred': {mae_result}\")"
   ]
  },
  {
   "cell_type": "markdown",
   "id": "3b3964da",
   "metadata": {},
   "source": [
    "# 3a)"
   ]
  },
  {
   "cell_type": "code",
   "execution_count": 19,
   "id": "bf9b9727",
   "metadata": {},
   "outputs": [],
   "source": [
    "def calculate_accuracy(actual, predicted):\n",
    "    actual_values = [1, 2, 3, 4, 5]\n",
    "    predicted_values = [1, 2, 3, 4, 5]\n",
    "\n",
    "    correct_predictions = sum(a == p for a, p in zip(actual, predicted))\n",
    "    total_predictions = len(actual)\n",
    "    accuracy = correct_predictions / total_predictions * 100\n",
    "    return accuracy\n"
   ]
  },
  {
   "cell_type": "markdown",
   "id": "a69fe938",
   "metadata": {},
   "source": [
    "# 3b)"
   ]
  },
  {
   "cell_type": "code",
   "execution_count": 16,
   "id": "da0a19ad",
   "metadata": {},
   "outputs": [
    {
     "name": "stdout",
     "output_type": "stream",
     "text": [
      "Accuracy: 84.71%\n"
     ]
    }
   ],
   "source": [
    "import pandas as pd\n",
    "\n",
    "def calculate_accuracy(actual, predicted):\n",
    " \n",
    "    correct_predictions = sum(a == p for a, p in zip(actual, predicted))\n",
    "    total_predictions = len(actual)\n",
    "    accuracy = correct_predictions / total_predictions * 100\n",
    "    return accuracy\n",
    "\n",
    "# Load dataset\n",
    "file_path = r'D:\\OneDrive - Bellevue University\\DSC 320\\week1data\\mushroom_data.csv'\n",
    "mushroom_data = pd.read_csv(file_path)\n",
    "\n",
    "# Extract actual and predicted columns from dataset.\n",
    "actual_values = (mushroom_data['actual'] == 'e').astype(int) \n",
    "predicted_values = (mushroom_data['predicted'] == 'e').astype(int)\n",
    "# Calculate accuracy\n",
    "result_accuracy = calculate_accuracy(actual_values, predicted_values)\n",
    "print(f\"Accuracy: {result_accuracy:.2f}%\")"
   ]
  },
  {
   "cell_type": "markdown",
   "id": "f9c5aa03",
   "metadata": {},
   "source": [
    "# 4a)"
   ]
  },
  {
   "cell_type": "code",
   "execution_count": 17,
   "id": "a6c802b6",
   "metadata": {
    "scrolled": true
   },
   "outputs": [
    {
     "data": {
      "image/png": "[encoded data removed]",
      "text/plain": [
       "<Figure size 640x480 with 1 Axes>"
      ]
     },
     "metadata": {},
     "output_type": "display_data"
    }
   ],
   "source": [
    "import numpy as np\n",
    "import matplotlib.pyplot as plt\n",
    "\n",
    "# Define the error function\n",
    "def error(p):\n",
    "    return 0.005 * p**6 - 0.27 * p**5 + 5.998 * p**4 - 69.919 * p**3 + 449.17 * p**2 - 1499.7 * p + 2028\n",
    "\n",
    "# Generate starting, ending and number of samples from the data.\n",
    "p_values = np.linspace(0, 10, 100)\n",
    "\n",
    "# Calculate the error values\n",
    "error_values = error(p_values)\n",
    "\n",
    "# Plot the graph aesthetics for the error function\n",
    "plt.plot(p_values, error_values, color=\"blue\")\n",
    "plt.xlabel('Parameter (p)')\n",
    "plt.ylabel('Error')\n",
    "plt.title('Error Function')\n",
    "plt.grid(False)\n",
    "plt.show()\n"
   ]
  },
  {
   "cell_type": "markdown",
   "id": "5fb01bf1",
   "metadata": {},
   "source": [
    "# 4b)"
   ]
  },
  {
   "cell_type": "code",
   "execution_count": 12,
   "id": "e963f715",
   "metadata": {},
   "outputs": [
    {
     "name": "stdout",
     "output_type": "stream",
     "text": [
      "The value of p that minimizes the error is: p = 5\n"
     ]
    }
   ],
   "source": [
    "# Report result\n",
    "# Display the labeled result on console\n",
    "print(\"The value of p that minimizes the error is: p = 5\")\n",
    "\n"
   ]
  },
  {
   "cell_type": "markdown",
   "id": "e00ba48c",
   "metadata": {},
   "source": [
    "# 4c)"
   ]
  },
  {
   "cell_type": "code",
   "execution_count": 13,
   "id": "4b106a52",
   "metadata": {},
   "outputs": [
    {
     "name": "stdout",
     "output_type": "stream",
     "text": [
      "The minimum error is: 2\n"
     ]
    }
   ],
   "source": [
    "# Report result\n",
    "print(\"The minimum error is: 2\")\n"
   ]
  }
 ],
 "metadata": {
  "kernelspec": {
   "display_name": "Python 3 (ipykernel)",
   "language": "python",
   "name": "python3"
  },
  "language_info": {
   "codemirror_mode": {
    "name": "ipython",
    "version": 3
   },
   "file_extension": ".py",
   "mimetype": "text/x-python",
   "name": "python",
   "nbconvert_exporter": "python",
   "pygments_lexer": "ipython3",
   "version": "3.11.4"
  }
 },
 "nbformat": 4,
 "nbformat_minor": 5
}
