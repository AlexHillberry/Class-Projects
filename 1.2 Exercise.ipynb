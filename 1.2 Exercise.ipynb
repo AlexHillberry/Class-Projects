{
 "cells": [
  {
   "cell_type": "markdown",
   "id": "a32847b1",
   "metadata": {},
   "source": [
    "# Alex Hillberry\n",
    "# DSC350 Data Wrangling for Data Science\n",
    "# 1.2 Exercise"
   ]
  },
  {
   "cell_type": "markdown",
   "id": "ae73830d",
   "metadata": {},
   "source": [
    "## Refresher Tasks"
   ]
  },
  {
   "cell_type": "markdown",
   "id": "6f5d57f0",
   "metadata": {},
   "source": [
    " Display the text “Hello World! I wonder why that is always the default coding text to start with”\n",
    "Add two numbers together\n",
    "Subtract a number from another number\n",
    "Multiply two numbers\n",
    "Divide between two numbers\n",
    "Concatenate two strings together (any words)\n",
    "Create a list of 4 items (can be strings, numbers, both)\n",
    "Append an item to your list (again, can be a string, number)\n",
    "Create a tuple with 4 items (can be strings, numbers, both)"
   ]
  },
  {
   "cell_type": "code",
   "execution_count": 1,
   "id": "35cc24ac",
   "metadata": {},
   "outputs": [
    {
     "name": "stdout",
     "output_type": "stream",
     "text": [
      "Hello World! I wonder why that is always the default coding text to start with\n"
     ]
    }
   ],
   "source": [
    "print(\"Hello World! I wonder why that is always the default coding text to start with\")"
   ]
  },
  {
   "cell_type": "code",
   "execution_count": 4,
   "id": "31b20224",
   "metadata": {},
   "outputs": [
    {
     "name": "stdout",
     "output_type": "stream",
     "text": [
      "{92}\n"
     ]
    }
   ],
   "source": [
    "number1 = 25\n",
    "number2 = 67\n",
    "sum = number1 + number2\n",
    "print({sum})"
   ]
  },
  {
   "cell_type": "code",
   "execution_count": 6,
   "id": "c4868e7c",
   "metadata": {},
   "outputs": [
    {
     "name": "stdout",
     "output_type": "stream",
     "text": [
      "{42}\n"
     ]
    }
   ],
   "source": [
    "diff = number2 - number1\n",
    "print({diff})"
   ]
  },
  {
   "cell_type": "code",
   "execution_count": 7,
   "id": "3b8b898b",
   "metadata": {},
   "outputs": [
    {
     "name": "stdout",
     "output_type": "stream",
     "text": [
      "{1675}\n"
     ]
    }
   ],
   "source": [
    "product = number1 * number2\n",
    "print({product})"
   ]
  },
  {
   "cell_type": "code",
   "execution_count": 9,
   "id": "9c8c03eb",
   "metadata": {},
   "outputs": [
    {
     "name": "stdout",
     "output_type": "stream",
     "text": [
      "{2.68}\n"
     ]
    }
   ],
   "source": [
    "quotient = number2 / number1\n",
    "print({quotient})"
   ]
  },
  {
   "cell_type": "code",
   "execution_count": 33,
   "id": "1e688f0d",
   "metadata": {},
   "outputs": [
    {
     "name": "stdout",
     "output_type": "stream",
     "text": [
      "I work in Walmart Wellness\n"
     ]
    }
   ],
   "source": [
    "business = \"Walmart\"\n",
    "product = \"Wellness\"\n",
    "print(\"I work in \" + business + \" \" + product)\n"
   ]
  },
  {
   "cell_type": "code",
   "execution_count": 9,
   "id": "ee927336",
   "metadata": {},
   "outputs": [
    {
     "name": "stdout",
     "output_type": "stream",
     "text": [
      "['bananas', 'oat milk', 'beer', 'pasta']\n"
     ]
    }
   ],
   "source": [
    "shopping_list = [\"bananas\", \"oat milk\", \"beer\", \"pasta\"]\n",
    "print(shopping_list)"
   ]
  },
  {
   "cell_type": "code",
   "execution_count": 10,
   "id": "0830e352",
   "metadata": {},
   "outputs": [
    {
     "name": "stdout",
     "output_type": "stream",
     "text": [
      "['bananas', 'oat milk', 'beer', 'pasta', 'cauliflower pasta']\n"
     ]
    }
   ],
   "source": [
    "shopping_list.append(\"cauliflower pasta\")\n",
    "print(shopping_list)"
   ]
  },
  {
   "cell_type": "code",
   "execution_count": 12,
   "id": "4cad98f9",
   "metadata": {},
   "outputs": [
    {
     "name": "stdout",
     "output_type": "stream",
     "text": [
      "(31, 'Male', 'Pharmacy Technician')\n"
     ]
    }
   ],
   "source": [
    "AboutMe = (31, \"Male\", \"Pharmacy Technician\")\n",
    "print(AboutMe)"
   ]
  },
  {
   "cell_type": "code",
   "execution_count": null,
   "id": "9d686358",
   "metadata": {},
   "outputs": [],
   "source": []
  }
 ],
 "metadata": {
  "kernelspec": {
   "display_name": "Python 3 (ipykernel)",
   "language": "python",
   "name": "python3"
  },
  "language_info": {
   "codemirror_mode": {
    "name": "ipython",
    "version": 3
   },
   "file_extension": ".py",
   "mimetype": "text/x-python",
   "name": "python",
   "nbconvert_exporter": "python",
   "pygments_lexer": "ipython3",
   "version": "3.11.5"
  }
 },
 "nbformat": 4,
 "nbformat_minor": 5
}
