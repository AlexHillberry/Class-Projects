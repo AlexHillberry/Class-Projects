{
 "cells": [
  {
   "cell_type": "markdown",
   "id": "8923532f",
   "metadata": {},
   "source": [
    "# 11.2 Exercise\n",
    "# Alexander Hillberry\n",
    "# DSC320-T301"
   ]
  },
  {
   "cell_type": "markdown",
   "id": "59197def",
   "metadata": {},
   "source": [
    "## 1a)"
   ]
  },
  {
   "cell_type": "code",
   "execution_count": 5,
   "id": "bff4efb9",
   "metadata": {},
   "outputs": [
    {
     "name": "stdout",
     "output_type": "stream",
     "text": [
      "Ensemble Model Accuracy: 100.00%\n"
     ]
    }
   ],
   "source": [
    "from scipy.stats import binom\n",
    "\n",
    "# Set Values\n",
    "number_of_models = 15\n",
    "indiv_acc = 0.63\n",
    "\n",
    "# Calculate ensemble model accuracy using binom dist, set to percent\n",
    "ensemble_acc = binom.pmf(range(number_of_models + 1), number_of_models, indiv_acc).sum()\n",
    "print(f\"Ensemble Model Accuracy: {ensemble_acc * 100:.2f}%\")"
   ]
  },
  {
   "cell_type": "markdown",
   "id": "7726a745",
   "metadata": {},
   "source": [
    "## 1b)"
   ]
  },
  {
   "cell_type": "code",
   "execution_count": 7,
   "id": "0f9f1e59",
   "metadata": {},
   "outputs": [
    {
     "name": "stdout",
     "output_type": "stream",
     "text": [
      "Individual Model Accuracy Needed: 80.00%\n"
     ]
    }
   ],
   "source": [
    "# Set Values\n",
    "target_acc = 0.95\n",
    "\n",
    "# Calculate the minimum accuracy each individual model should aim for\n",
    "acc_needed = binom.ppf(target_acc, number_of_models, indiv_acc) / number_of_models\n",
    "print(f\"Individual Model Accuracy Needed: {acc_needed * 100:.2f}%\")\n"
   ]
  },
  {
   "cell_type": "markdown",
   "id": "e0e0a17a",
   "metadata": {},
   "source": [
    "## 1c)"
   ]
  },
  {
   "cell_type": "code",
   "execution_count": 33,
   "id": "a46d3639",
   "metadata": {},
   "outputs": [
    {
     "name": "stdout",
     "output_type": "stream",
     "text": [
      "Number of Individual Models Needed: 13\n"
     ]
    }
   ],
   "source": [
    "# Set Values\n",
    "target_acc = 0.95\n",
    "\n",
    "# Find the smallest odd number of individual models for target ensemble accuracy\n",
    "number_needed = binom.ppf(target_acc, num_individual_models, individual_model_accuracy)\n",
    "number_needed = int(number_needed) + 1 if number_needed % 2 == 0 else int(number_needed)\n",
    "print(f\"Number of Individual Models Needed: {number_needed}\")"
   ]
  },
  {
   "cell_type": "markdown",
   "id": "1fdd0321",
   "metadata": {},
   "source": [
    "## 2a)"
   ]
  },
  {
   "cell_type": "code",
   "execution_count": 42,
   "id": "5a857452",
   "metadata": {},
   "outputs": [
    {
     "name": "stdout",
     "output_type": "stream",
     "text": [
      "The provided PMF is valid.\n"
     ]
    }
   ],
   "source": [
    "# Example PMF for X\n",
    "pmf = {1: 0.20, 2: 0.25, 3: 0.15, 4: 0.17, 5: 0.23}\n",
    "\n",
    "# Checking if it satisfies the requirements of a PMF\n",
    "if all(0 <= prob <= 1 for prob in pmf.values()) and sum(pmf.values()) == 1:\n",
    "    print(\"The provided PMF is valid.\")\n",
    "else:\n",
    "    print(\"The provided PMF is not valid.\")"
   ]
  },
  {
   "cell_type": "markdown",
   "id": "5c864c08",
   "metadata": {},
   "source": [
    "## 2b)"
   ]
  },
  {
   "cell_type": "code",
   "execution_count": 43,
   "id": "f26f0b01",
   "metadata": {},
   "outputs": [
    {
     "name": "stdout",
     "output_type": "stream",
     "text": [
      "Mean of 50 Random X-values: 3.02\n"
     ]
    }
   ],
   "source": [
    "import numpy as np\n",
    "\n",
    "def generate_random_X_values(pmf, size=50):\n",
    "    values = np.random.choice(list(pmf.keys()), size=size, p=list(pmf.values()))\n",
    "    return np.mean(values)\n",
    "\n",
    "pmf = {1: 0.20, 2: 0.25, 3: 0.15, 4: 0.17, 5: 0.23}\n",
    "\n",
    "mean_of_random_X_values = generate_random_X_values(pmf)\n",
    "print(f\"Mean of 50 Random X-values: {mean_of_random_X_values}\")"
   ]
  },
  {
   "cell_type": "markdown",
   "id": "c719f37c",
   "metadata": {},
   "source": [
    "## 2c)"
   ]
  },
  {
   "cell_type": "code",
   "execution_count": 45,
   "id": "78f1b7f2",
   "metadata": {},
   "outputs": [
    {
     "name": "stdout",
     "output_type": "stream",
     "text": [
      "[2.78, 2.76, 3.16, 3.1, 3.02, 3.1, 2.78, 2.86, 2.96, 3.22, 3.2, 2.7, 3.06, 2.94, 3.32, 3.0, 2.84, 3.02, 2.84, 2.8, 2.74, 2.76, 2.92, 3.18, 3.16, 3.1, 3.24, 3.06, 3.14, 2.8, 2.94, 3.08, 3.1, 3.12, 2.86, 2.82, 2.68, 2.9, 2.86, 3.08, 3.26, 2.96, 2.92, 3.2, 2.96, 2.86, 3.16, 2.92, 2.74, 3.0, 3.04, 2.98, 3.1, 2.76, 2.94, 2.98, 2.96, 3.2, 3.28, 3.08, 2.98, 2.8, 3.04, 2.9, 2.84, 3.04, 2.52, 2.98, 2.76, 2.74, 2.98, 2.98, 3.02, 2.94, 2.54, 2.64, 3.04, 2.8, 2.66, 3.18, 3.0, 2.84, 3.32, 3.4, 3.0, 3.0, 2.74, 2.72, 3.18, 3.2, 3.22, 2.98, 3.08, 2.88, 2.86, 2.7, 2.7, 2.84, 2.98, 2.8, 3.02, 3.04, 3.54, 2.98, 3.16, 2.94, 3.06, 2.9, 3.04, 2.8, 2.96, 3.14, 3.3, 3.1, 2.82, 2.96, 2.98, 2.96, 3.1, 2.86, 2.88, 2.66, 3.04, 2.98, 2.64, 2.96, 2.78, 2.72, 3.6, 2.72, 2.98, 3.04, 3.14, 2.76, 3.0, 2.82, 3.2, 2.98, 2.78, 2.54, 3.28, 2.82, 2.88, 2.78, 2.9, 3.22, 2.76, 2.9, 3.04, 3.38, 2.94, 2.62, 2.8, 3.26, 2.76, 2.88, 3.1, 2.84, 2.98, 2.96, 3.36, 2.78, 3.04, 2.74, 2.6, 2.94, 3.16, 2.94, 2.96, 3.06, 3.14, 3.12, 2.98, 2.96, 2.92, 3.34, 3.12, 2.92, 3.02, 2.88, 3.4, 2.88, 2.92, 2.92, 2.98, 3.32, 2.9, 3.3, 3.54, 2.74, 3.28, 2.86, 3.08, 3.0, 2.84, 2.82, 2.86, 2.88, 2.8, 2.8, 2.88, 3.02, 2.88, 2.82, 2.72, 2.78, 3.12, 3.0, 2.58, 3.06, 3.1, 3.02, 3.06, 3.28, 2.86, 2.88, 3.24, 3.04, 3.1, 3.28, 3.14, 3.06, 2.86, 3.02, 3.04, 3.16, 3.0, 2.7, 3.36, 2.52, 2.96, 2.98, 3.0, 2.86, 2.72, 3.02, 2.68, 3.0, 2.74, 3.04, 2.42, 3.2, 2.88, 2.9, 3.04, 2.8, 2.82, 2.84, 2.94, 2.54, 2.62, 2.76, 2.88, 3.02, 2.56, 3.2, 2.92, 3.36, 2.92, 2.84, 3.06, 2.92, 3.36, 3.02, 3.32, 2.86, 2.98, 3.06, 2.7, 2.84, 3.0, 3.14, 3.04, 2.9, 3.0, 2.6, 2.88, 2.76, 2.72, 2.74, 3.1, 2.92, 3.48, 2.62, 3.04, 2.94, 3.0, 2.82, 3.22, 2.8, 2.82, 3.12, 3.14, 3.2, 3.02, 2.96, 2.56, 3.0, 3.16, 3.22, 3.16, 2.86, 2.98, 3.0, 2.98, 3.02, 2.96, 2.94, 2.74, 3.1, 2.96, 3.12, 2.68, 2.86, 3.04, 2.72, 2.76, 2.86, 2.76, 3.12, 2.82, 3.02, 3.1, 3.06, 3.06, 3.08, 2.88, 3.0, 3.22, 2.82, 2.98, 3.0, 2.88, 2.9, 2.8, 3.18, 3.04, 3.02, 3.1, 3.14, 3.2, 3.0, 3.26, 3.28, 2.84, 3.12, 3.04, 3.04, 2.74, 2.82, 2.6, 2.92, 3.04, 2.96, 2.96, 3.04, 2.84, 3.42, 2.88, 3.02, 2.68, 3.08, 3.18, 3.0, 2.94, 2.92, 2.5, 3.12, 2.5, 3.28, 3.06, 2.5, 2.98, 2.54, 2.82, 2.84, 2.68, 2.82, 2.88, 3.04, 2.84, 2.9, 2.96, 2.46, 3.16, 2.98, 2.92, 3.38, 2.92, 2.82, 3.06, 3.04, 2.98, 3.02, 2.86, 3.1, 2.6, 3.02, 3.04, 2.9, 2.82, 2.7, 3.14, 2.86, 3.06, 3.12, 3.04, 2.9, 3.42, 2.82, 2.68, 3.04, 2.88, 3.22, 2.8, 3.1, 2.7, 2.76, 3.22, 2.82, 2.68, 3.28, 3.06, 3.3, 3.34, 2.84, 3.12, 2.9, 3.22, 2.82, 2.92, 3.02, 3.04, 3.22, 3.2, 2.68, 2.96, 2.84, 2.74, 2.9, 3.08, 2.7, 3.04, 2.84, 2.88, 2.72, 3.06, 2.78, 2.84, 2.9, 3.3, 3.1, 2.74, 3.06, 3.12, 2.72, 3.0, 3.12, 3.04, 2.96, 3.08, 2.68, 3.22, 2.6, 3.0, 2.84, 2.74, 3.12, 3.0, 2.9, 2.74, 3.16, 2.66, 2.66, 2.66, 2.86, 2.94, 3.16, 2.92, 2.74, 2.64, 2.88, 2.84, 3.18, 3.04, 2.66, 3.02, 3.1, 2.9, 3.54, 3.18, 3.14, 3.08, 3.1, 2.7, 2.7, 2.62, 3.04, 2.66, 2.76, 3.02, 3.02, 2.7, 3.04, 2.8, 2.9, 3.0, 2.98, 2.96, 2.94, 3.34, 3.44, 3.04, 2.78, 2.7, 3.0, 3.04, 2.94, 3.18, 3.28, 3.0, 3.28, 3.16, 2.88, 3.08, 3.04, 3.1, 3.24, 2.9, 2.84, 2.7, 3.44, 3.36, 2.92, 2.78, 3.26, 3.1, 2.78, 2.7, 2.9, 3.04, 3.08, 3.06, 3.04, 2.98, 3.44, 2.66, 2.9, 2.72, 2.96, 2.86, 3.18, 2.94, 2.86, 3.02, 3.0, 2.74, 3.08, 2.92, 2.96, 2.76, 3.04, 2.76, 3.06, 2.96, 3.26, 2.9, 2.94, 3.04, 2.6, 2.9, 2.98, 3.16, 2.94, 3.32, 2.96, 3.32, 2.94, 3.02, 3.36, 3.02, 2.64, 3.02, 3.34, 3.42, 2.94, 2.82, 2.98, 3.18, 2.86, 3.5, 3.02, 3.18, 2.9, 2.76, 2.92, 3.24, 3.26, 3.0, 2.94, 2.68, 3.34, 2.82, 2.92, 3.1, 2.98, 2.8, 2.78, 3.06, 2.82, 3.18, 2.78, 2.8, 2.96, 2.92, 2.92, 3.06, 3.16, 2.86, 2.86, 3.0, 2.74, 3.16, 2.84, 2.82, 3.06, 3.0, 3.04, 3.1, 2.88, 2.88, 3.28, 3.04, 2.96, 2.98, 2.56, 3.12, 2.82, 3.22, 3.58, 2.68, 3.14, 2.98, 2.6, 2.6, 3.14, 3.14, 2.98, 2.98, 3.08, 2.84, 3.06, 2.78, 2.98, 2.68, 2.88, 3.42, 3.26, 2.82, 3.04, 2.82, 2.92, 3.26, 3.62, 2.94, 3.1, 2.84, 2.82, 2.72, 3.22, 2.82, 2.82, 3.04, 2.38, 3.26, 2.56, 2.94, 3.08, 3.0, 2.84, 2.94, 2.62, 3.0, 3.06, 3.24, 2.92, 3.14, 3.32, 3.32, 2.92, 3.16, 3.0, 3.04, 3.0, 3.06, 2.88, 2.66, 2.84, 3.16, 3.06, 3.04, 3.16, 3.22, 2.84, 3.2, 3.2, 2.52, 3.46, 3.2, 3.28, 3.1, 2.64, 2.7, 2.9, 3.2, 3.14, 2.92, 2.68, 2.62, 2.88, 2.86, 3.1, 2.92, 2.78, 3.0, 2.9, 3.2, 2.96, 2.96, 2.9, 3.36, 3.06, 2.96, 3.38, 2.9, 3.06, 2.66, 2.92, 3.1, 2.9, 3.38, 3.1, 3.06, 2.94, 2.94, 2.84, 3.18, 2.66, 3.02, 3.1, 2.86, 3.2, 2.84, 2.96, 3.18, 3.26, 3.08, 2.88, 2.98, 2.68, 2.84, 2.64, 3.24, 3.0, 2.96, 2.9, 2.48, 3.04, 2.8, 3.3, 2.64, 3.04, 2.76, 3.2, 2.7, 2.94, 3.2, 3.08, 3.32, 2.62, 2.94, 2.96, 3.18, 3.3, 3.24, 3.04, 3.16, 2.64, 2.88, 3.16, 2.94, 3.06, 3.14, 3.6, 2.94, 2.98, 3.18, 3.38, 2.84, 3.08, 2.76, 3.18, 2.98, 2.82, 3.24, 3.08, 3.12, 2.62, 3.14, 3.02, 2.88, 3.26, 3.0, 2.62, 2.94, 3.2, 3.48, 2.82, 3.14, 2.96, 2.84, 2.96, 2.82, 3.18, 2.88, 2.8, 3.08, 3.02, 2.72, 2.76, 2.94, 2.88, 2.94, 3.38, 3.1, 2.9, 2.82, 2.76, 2.76, 2.84, 2.88, 2.9, 3.2, 3.42, 3.1, 2.7, 3.24, 2.56, 3.28, 2.8, 3.18, 2.92, 3.22, 2.72, 2.76, 2.98, 2.7, 2.92, 3.02, 3.22, 2.94, 3.36, 2.88, 3.12, 3.18, 2.88, 3.02, 2.92, 3.0, 3.32, 2.86, 2.76, 3.28, 2.7, 3.28, 2.98, 3.1, 3.14, 3.12, 3.0, 2.52, 2.88, 2.8, 2.94, 2.88, 3.02, 3.12, 3.14, 2.96, 2.88, 2.96, 3.06, 3.42, 3.02, 3.14, 2.68, 3.24, 3.36, 3.32, 2.84, 3.12, 3.22, 2.88, 3.26, 2.96, 3.02, 3.06, 3.3, 3.12, 3.02, 3.14, 2.68, 3.04, 2.82, 2.76, 2.76, 2.94, 3.3, 2.76, 3.26, 2.94, 3.12, 2.98, 2.92, 3.1, 2.98, 2.94, 2.72, 2.68, 2.92, 2.92, 2.78, 3.08, 3.12, 2.78, 2.98, 2.5, 2.96, 2.94, 2.96, 2.92, 3.44, 2.8, 2.62, 3.04, 2.98, 3.04, 2.94, 3.16, 2.88, 2.92, 2.94, 3.26, 3.42, 3.2, 2.94, 2.94, 2.76, 2.8, 2.94, 2.82, 2.8, 3.02, 2.92, 3.06, 3.12, 3.16, 3.0, 2.8, 2.9, 2.76, 3.1, 2.94, 2.92, 2.88, 3.02, 3.02, 3.14, 3.24, 3.0, 2.8, 3.0, 3.0, 3.0, 2.86, 2.84, 2.9, 2.86, 2.82, 3.18, 3.36, 3.04, 2.88, 2.68, 2.96, 3.14, 3.16, 3.28, 2.92, 3.0]\n"
     ]
    }
   ],
   "source": [
    "num_simulations = 1000\n",
    "means_list = [generate_random_X_values(pmf) for _ in range(num_simulations)]\n",
    "print(means_list)"
   ]
  },
  {
   "cell_type": "markdown",
   "id": "6dfa0cfb",
   "metadata": {},
   "source": [
    "## 2d)"
   ]
  },
  {
   "cell_type": "code",
   "execution_count": 38,
   "id": "0f98c3f4",
   "metadata": {},
   "outputs": [
    {
     "data": {
      "image/png": "[encoded data removed]",
      "text/plain": [
       "<Figure size 640x480 with 1 Axes>"
      ]
     },
     "metadata": {},
     "output_type": "display_data"
    },
    {
     "name": "stdout",
     "output_type": "stream",
     "text": [
      "The histogram appears to be approximately normally distributed, which aligns with the Central Limit Theorem.\n"
     ]
    }
   ],
   "source": [
    "import matplotlib.pyplot as plt\n",
    "\n",
    "plt.hist(means_list, bins=20, edgecolor='black', color='royalblue')  \n",
    "plt.title('')\n",
    "plt.xlabel('Mean')\n",
    "plt.ylabel('Frequency')\n",
    "plt.show()\n",
    "\n",
    "print(\"The histogram appears to be approximately normally distributed, which aligns with the Central Limit Theorem.\")"
   ]
  },
  {
   "cell_type": "markdown",
   "id": "679f6150",
   "metadata": {},
   "source": [
    "## 2e)"
   ]
  },
  {
   "cell_type": "code",
   "execution_count": 47,
   "id": "b8e5bccd",
   "metadata": {},
   "outputs": [
    {
     "name": "stdout",
     "output_type": "stream",
     "text": [
      "Mean of Means: 2.98 (Theoretical: 3.0)\n",
      "Standard Deviation of Means: 0.20 (Theoretical: 1.4142135623730951)\n"
     ]
    }
   ],
   "source": [
    "# Calculate the mean and standard deviation of the list of means\n",
    "mean_of_means = np.mean(means_list)\n",
    "std_dev_of_means = np.std(means_list)\n",
    "\n",
    "# Theoretical values for mean and standard deviation\n",
    "theoretical_mean = np.mean(list(pmf.keys()))\n",
    "theoretical_std_dev = np.std(list(pmf.keys()))\n",
    "\n",
    "print(f\"Mean of Means: {mean_of_means:.2f} (Theoretical: {theoretical_mean})\")\n",
    "print(f\"Standard Deviation of Means: {std_dev_of_means:.2f} (Theoretical: {theoretical_std_dev})\")"
   ]
  },
  {
   "cell_type": "code",
   "execution_count": null,
   "id": "cd6c6c0f",
   "metadata": {},
   "outputs": [],
   "source": []
  }
 ],
 "metadata": {
  "kernelspec": {
   "display_name": "Python 3 (ipykernel)",
   "language": "python",
   "name": "python3"
  },
  "language_info": {
   "codemirror_mode": {
    "name": "ipython",
    "version": 3
   },
   "file_extension": ".py",
   "mimetype": "text/x-python",
   "name": "python",
   "nbconvert_exporter": "python",
   "pygments_lexer": "ipython3",
   "version": "3.11.4"
  }
 },
 "nbformat": 4,
 "nbformat_minor": 5
}
