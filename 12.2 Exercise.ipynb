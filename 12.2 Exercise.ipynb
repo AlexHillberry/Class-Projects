{
 "cells": [
  {
   "cell_type": "markdown",
   "id": "e89c7feb",
   "metadata": {},
   "source": [
    "# 12.2 Exercise\n",
    "# Alexander Hillberry\n",
    "# DSC320-T301"
   ]
  },
  {
   "cell_type": "markdown",
   "id": "a7f8fd76",
   "metadata": {},
   "source": [
    "## Calculating Probabilities using Bayes’ Theorem"
   ]
  },
  {
   "cell_type": "markdown",
   "id": "09b73b8a",
   "metadata": {},
   "source": [
    "## 1a)"
   ]
  },
  {
   "cell_type": "code",
   "execution_count": 2,
   "id": "7bbd9b9d",
   "metadata": {},
   "outputs": [
    {
     "name": "stdout",
     "output_type": "stream",
     "text": [
      "If a randomly chosen graphics card is defective, the probability it was manufactured using Process A is: 51.72%\n"
     ]
    }
   ],
   "source": [
    "# List tree diagram probabilities\n",
    "P_A = 0.5\n",
    "P_B = 0.3\n",
    "P_C = 0.2\n",
    "\n",
    "P_Def_given_A = 0.03\n",
    "P_Def_given_B = 0.02\n",
    "P_Def_given_C = 0.04\n",
    "\n",
    "#Use Bayes' Theorem for Process C\n",
    "P_A_given_Def = (P_A * P_Def_given_A) / ((P_A * P_Def_given_A) + (P_B * P_Def_given_B) + (P_C * P_Def_given_C))\n",
    "\n",
    "print(f\"If a randomly chosen graphics card is defective, the probability it was manufactured using\" \n",
    "f\" Process A is: {P_A_given_Def *100:.2f}%\")\n"
   ]
  },
  {
   "cell_type": "markdown",
   "id": "5d6d890c",
   "metadata": {},
   "source": [
    "## 1b)"
   ]
  },
  {
   "cell_type": "code",
   "execution_count": 7,
   "id": "5a5196fe",
   "metadata": {},
   "outputs": [
    {
     "name": "stdout",
     "output_type": "stream",
     "text": [
      "If a randomly chosen graphics card is not defective, the probability it was manufactured using Process C is: 19.77%\n"
     ]
    }
   ],
   "source": [
    "# List probabilities\n",
    "P_Not_Def_A = 0.97\n",
    "P_Not_Def_B = 0.98\n",
    "P_Not_Def_C = 0.96\n",
    "\n",
    "#Use Bayes' Theorem for process C\n",
    "P_C_given_Not_Def = (P_C * P_Not_Def_C) / ((P_A * P_Not_Def_A) + (P_B * P_Not_Def_B) + (P_C * P_Not_Def_C))\n",
    "\n",
    "print(f\"If a randomly chosen graphics card is not defective, the probability it was manufactured using\" \n",
    "f\" Process C is: {P_C_given_Not_Def * 100:.2f}%\")\n"
   ]
  },
  {
   "cell_type": "markdown",
   "id": "f36c88c8",
   "metadata": {},
   "source": [
    "## Entropy Function for a Probability Distribution"
   ]
  },
  {
   "cell_type": "markdown",
   "id": "1021bb77",
   "metadata": {},
   "source": [
    "## 2)"
   ]
  },
  {
   "cell_type": "code",
   "execution_count": 36,
   "id": "63b0abd9",
   "metadata": {},
   "outputs": [
    {
     "name": "stdout",
     "output_type": "stream",
     "text": [
      "The entropy of the probability distribution is calculated using the formula: H(X) = -Σ P(x) * log2(P(x))\n",
      "Entropy = 1.9406\n"
     ]
    }
   ],
   "source": [
    "import math\n",
    "#define function for entropy\n",
    "def entropy(probabilities):\n",
    "    \n",
    "    # Exclude 0\n",
    "    entropy_result = -sum(p * math.log2(p) for p in probabilities if p > 0)\n",
    "    \n",
    "    # Return the calculated entropy\n",
    "    return entropy_result\n",
    "\n",
    "#Define a list of probabilities for a discrete distribution using n outcomes (in this case n=4)\n",
    "probabilities = [0.25, 0.35, 0.15, 0.25]\n",
    "\n",
    "#Call the entropy function with the defined probabilities\n",
    "entropy_result = entropy(probabilities)\n",
    "\n",
    "#Display the result given  H(X)=-ΣP(x)*log2(P(x))\n",
    "print(f\"The entropy of the probability distribution is calculated using the formula: H(X) = -Σ P(x) * log2(P(x))\")\n",
    "print(f\"Entropy = {entropy_result:.4f}\")\n",
    "\n"
   ]
  },
  {
   "cell_type": "markdown",
   "id": "7dd2fb58",
   "metadata": {},
   "source": [
    "## Calculating Entropies of Probability Distributions"
   ]
  },
  {
   "cell_type": "markdown",
   "id": "18b466d1",
   "metadata": {},
   "source": [
    "## 3a)"
   ]
  },
  {
   "cell_type": "code",
   "execution_count": 20,
   "id": "7769d199",
   "metadata": {},
   "outputs": [
    {
     "name": "stdout",
     "output_type": "stream",
     "text": [
      "Entropy of X: 2.3219\n",
      "Entropy of Y: 2.0464\n"
     ]
    }
   ],
   "source": [
    "import math\n",
    "\n",
    "def entropy(probabilities):\n",
    "    entropy_result = -sum(p * math.log2(p) for p in probabilities if p > 0)\n",
    "    return entropy_result\n",
    "\n",
    "#Probabilities for X\n",
    "probabilities_X = [0.2, 0.2, 0.2, 0.2, 0.2]\n",
    "entropy_X = entropy(probabilities_X)\n",
    "\n",
    "#Probabilities for Y\n",
    "probabilities_Y = [0.1, 0.4, 0.1, 0.3, 0.1]\n",
    "entropy_Y = entropy(probabilities_Y)\n",
    "\n",
    "#Calculate Entropy\n",
    "print(f\"Entropy of X: {entropy_X:.4f}\")\n",
    "print(f\"Entropy of Y: {entropy_Y:.4f}\")\n"
   ]
  },
  {
   "cell_type": "markdown",
   "id": "92150708",
   "metadata": {},
   "source": [
    "## 3b)"
   ]
  },
  {
   "cell_type": "code",
   "execution_count": 33,
   "id": "9441768e",
   "metadata": {},
   "outputs": [
    {
     "name": "stdout",
     "output_type": "stream",
     "text": [
      "Entropy is a measure of uncertainty in the probability distribution. Higher entropy indicates a greater degree of randomness.\n",
      "Comparing the entropies of X and Y, the higher entropy is considered to be more spread out.\n",
      "Therefore, X is bigger and therefore has a higher degree of entropy vs Y.\n"
     ]
    }
   ],
   "source": [
    "print(\"Entropy is a measure of uncertainty in the probability distribution. Higher entropy indicates a greater degree of randomness.\")\n",
    "print(\"Comparing the entropies of X and Y, the higher entropy is considered to be more spread out.\")\n",
    "print(f\"Therefore, X is bigger and therefore has a higher degree of entropy vs Y.\")\n"
   ]
  }
 ],
 "metadata": {
  "kernelspec": {
   "display_name": "Python 3 (ipykernel)",
   "language": "python",
   "name": "python3"
  },
  "language_info": {
   "codemirror_mode": {
    "name": "ipython",
    "version": 3
   },
   "file_extension": ".py",
   "mimetype": "text/x-python",
   "name": "python",
   "nbconvert_exporter": "python",
   "pygments_lexer": "ipython3",
   "version": "3.11.4"
  }
 },
 "nbformat": 4,
 "nbformat_minor": 5
}
