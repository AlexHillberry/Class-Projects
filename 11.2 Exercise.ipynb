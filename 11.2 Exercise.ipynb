{
 "cells": [
  {
   "cell_type": "markdown",
   "id": "a833b420",
   "metadata": {},
   "source": [
    "# 10.2 Exercise\n",
    "# Alexander Hillberry\n",
    "# DSC320-T301"
   ]
  },
  {
   "cell_type": "markdown",
   "id": "79a5a1ec",
   "metadata": {},
   "source": [
    "## 1a)"
   ]
  },
  {
   "cell_type": "code",
   "execution_count": 4,
   "id": "79188bdd",
   "metadata": {},
   "outputs": [
    {
     "name": "stdout",
     "output_type": "stream",
     "text": [
      "Ensemble Model Accuracy: 100.00%\n"
     ]
    }
   ],
   "source": [
    "from scipy.stats import binom\n",
    "\n",
    "# Given values\n",
    "individual_model_accuracy = 0.63\n",
    "num_individual_models = 15\n",
    "\n",
    "# Calculate ensemble model accuracy using binomial distribution\n",
    "ensemble_model_accuracy = binom.pmf(range(num_individual_models + 1), num_individual_models, individual_model_accuracy).sum()\n",
    "print(f\"Ensemble Model Accuracy: {ensemble_model_accuracy * 100:.2f}%\")\n"
   ]
  },
  {
   "cell_type": "markdown",
   "id": "308d8a37",
   "metadata": {},
   "source": [
    "## 1b)"
   ]
  },
  {
   "cell_type": "code",
   "execution_count": 5,
   "id": "c6650a4b",
   "metadata": {},
   "outputs": [
    {
     "name": "stdout",
     "output_type": "stream",
     "text": [
      "Individual Model Accuracy Needed: 80.00%\n"
     ]
    }
   ],
   "source": [
    "# Given values\n",
    "target_ensemble_accuracy = 0.95\n",
    "\n",
    "# Find the smallest whole number percentage for individual models to achieve target ensemble accuracy\n",
    "individual_model_accuracy_needed = binom.ppf(target_ensemble_accuracy, num_individual_models, individual_model_accuracy) / num_individual_models\n",
    "print(f\"Individual Model Accuracy Needed: {individual_model_accuracy_needed * 100:.2f}%\")\n"
   ]
  },
  {
   "cell_type": "markdown",
   "id": "5ff3f555",
   "metadata": {},
   "source": [
    "## 1c)"
   ]
  },
  {
   "cell_type": "code",
   "execution_count": 9,
   "id": "9652a37b",
   "metadata": {},
   "outputs": [
    {
     "name": "stdout",
     "output_type": "stream",
     "text": [
      "Number of Individual Models Needed: 13\n"
     ]
    }
   ],
   "source": [
    "# Given values\n",
    "target_ensemble_accuracy = 0.95\n",
    "\n",
    "# Find the smallest odd number of individual models for target ensemble accuracy\n",
    "num_individual_models_needed = binom.ppf(target_ensemble_accuracy, num_individual_models, individual_model_accuracy)\n",
    "num_individual_models_needed = int(num_individual_models_needed) + 1 if num_individual_models_needed % 2 == 0 else int(num_individual_models_needed)\n",
    "print(f\"Number of Individual Models Needed: {num_individual_models_needed}\")"
   ]
  },
  {
   "cell_type": "markdown",
   "id": "b971ea3e",
   "metadata": {},
   "source": [
    "## 2a)"
   ]
  },
  {
   "cell_type": "code",
   "execution_count": 10,
   "id": "54a535b6",
   "metadata": {},
   "outputs": [
    {
     "name": "stdout",
     "output_type": "stream",
     "text": [
      "The provided PMF is valid.\n"
     ]
    }
   ],
   "source": [
    "# Example PMF for X\n",
    "pmf = {1: 0.1, 2: 0.2, 3: 0.3, 4: 0.2, 5: 0.2}\n",
    "\n",
    "# Checking if it satisfies the requirements of a PMF\n",
    "if all(0 <= prob <= 1 for prob in pmf.values()) and sum(pmf.values()) == 1:\n",
    "    print(\"The provided PMF is valid.\")\n",
    "else:\n",
    "    print(\"The provided PMF is not valid.\")\n"
   ]
  },
  {
   "cell_type": "markdown",
   "id": "9cd56fbb",
   "metadata": {},
   "source": [
    "## 1b)"
   ]
  },
  {
   "cell_type": "code",
   "execution_count": 11,
   "id": "4cf044e9",
   "metadata": {},
   "outputs": [
    {
     "name": "stdout",
     "output_type": "stream",
     "text": [
      "Mean of 50 Random X-values: 2.98\n"
     ]
    }
   ],
   "source": [
    "import numpy as np\n",
    "\n",
    "def generate_random_X_values(pmf, size=50):\n",
    "    values = np.random.choice(list(pmf.keys()), size=size, p=list(pmf.values()))\n",
    "    return np.mean(values)\n",
    "\n",
    "# Example PMF (replace with your own)\n",
    "pmf = {1: 0.2, 2: 0.3, 3: 0.1, 4: 0.2, 5: 0.2}\n",
    "\n",
    "mean_of_random_X_values = generate_random_X_values(pmf)\n",
    "print(f\"Mean of 50 Random X-values: {mean_of_random_X_values}\")\n"
   ]
  },
  {
   "cell_type": "markdown",
   "id": "aa9f8318",
   "metadata": {},
   "source": [
    "## 1c)"
   ]
  },
  {
   "cell_type": "code",
   "execution_count": 13,
   "id": "687a17dc",
   "metadata": {},
   "outputs": [
    {
     "name": "stdout",
     "output_type": "stream",
     "text": [
      "[2.64, 2.9, 3.06, 2.86, 3.08, 3.08, 2.86, 2.9, 2.98, 2.66, 3.04, 2.86, 3.06, 2.92, 2.8, 3.0, 2.66, 3.06, 3.18, 2.88, 2.9, 3.12, 3.3, 2.54, 3.02, 2.82, 2.8, 2.72, 2.94, 2.7, 3.18, 2.98, 2.88, 2.84, 2.86, 2.74, 2.74, 3.1, 2.94, 3.08, 3.0, 2.88, 2.82, 2.84, 3.22, 2.68, 2.98, 3.0, 2.66, 2.88, 2.8, 2.78, 3.04, 3.1, 2.92, 3.08, 3.04, 3.22, 2.8, 2.82, 3.0, 2.62, 2.86, 2.64, 2.58, 2.94, 2.66, 2.88, 2.9, 3.02, 2.58, 2.76, 2.62, 3.04, 2.94, 3.04, 3.02, 2.96, 2.96, 2.8, 2.94, 2.94, 2.96, 2.96, 2.76, 2.8, 2.88, 3.18, 2.9, 2.74, 3.06, 2.92, 2.84, 2.72, 2.78, 2.26, 3.0, 2.98, 2.52, 2.62, 3.08, 2.98, 3.36, 2.9, 3.34, 2.7, 2.62, 2.92, 2.88, 3.02, 2.8, 3.06, 2.62, 2.92, 2.76, 2.92, 2.96, 3.02, 2.9, 2.72, 2.88, 2.68, 2.9, 2.68, 2.8, 2.94, 2.82, 2.5, 2.84, 2.5, 3.04, 2.94, 2.66, 2.8, 2.88, 3.3, 2.84, 3.02, 2.94, 2.6, 2.52, 3.12, 2.66, 2.68, 3.02, 2.98, 3.12, 2.62, 2.78, 2.68, 2.86, 2.78, 2.92, 2.94, 3.16, 3.14, 3.04, 2.88, 2.98, 2.9, 2.76, 2.88, 2.84, 2.86, 2.66, 3.12, 3.08, 2.9, 2.88, 2.96, 2.88, 3.04, 2.88, 2.74, 2.92, 3.02, 2.82, 2.84, 2.82, 2.98, 3.12, 3.0, 2.96, 3.14, 3.02, 2.8, 2.94, 2.9, 3.0, 3.0, 2.56, 2.94, 2.82, 2.86, 2.96, 2.92, 2.9, 2.92, 2.86, 2.54, 2.82, 2.96, 2.38, 2.82, 2.7, 3.16, 2.88, 2.58, 2.78, 2.98, 3.2, 3.14, 2.68, 2.9, 2.68, 2.66, 2.88, 2.9, 2.8, 2.82, 3.08, 2.7, 2.68, 3.36, 3.06, 2.88, 2.68, 3.02, 2.62, 3.32, 2.64, 3.12, 2.9, 2.56, 3.02, 2.78, 3.46, 2.56, 3.02, 2.4, 2.78, 2.68, 3.4, 2.82, 2.6, 2.64, 2.7, 2.72, 3.08, 3.22, 2.7, 2.68, 2.96, 2.9, 2.94, 2.86, 3.0, 3.02, 2.92, 3.06, 2.48, 2.9, 3.04, 2.96, 3.0, 2.96, 2.78, 2.6, 2.76, 3.28, 3.12, 3.32, 2.88, 3.02, 3.04, 2.86, 2.98, 3.22, 2.7, 3.22, 2.64, 3.1, 2.92, 2.9, 3.04, 2.68, 2.92, 2.92, 2.94, 2.98, 2.5, 3.16, 2.84, 2.76, 3.52, 2.58, 2.9, 2.6, 2.92, 2.96, 2.8, 2.9, 3.18, 3.18, 3.12, 3.26, 2.54, 3.04, 2.64, 2.7, 2.64, 2.74, 3.04, 2.78, 2.86, 2.78, 3.18, 2.52, 2.9, 3.04, 2.78, 2.82, 3.2, 2.62, 2.72, 2.9, 2.62, 2.68, 2.94, 3.02, 2.86, 2.94, 2.62, 2.74, 2.7, 2.94, 2.58, 3.06, 2.94, 2.52, 2.76, 2.9, 2.68, 2.56, 2.58, 2.74, 3.3, 3.04, 2.7, 3.18, 2.6, 2.94, 2.88, 2.76, 2.82, 2.42, 2.9, 3.5, 3.24, 2.68, 3.0, 2.9, 3.16, 2.9, 3.02, 2.94, 3.24, 2.74, 2.74, 2.92, 3.08, 3.26, 2.7, 2.88, 2.74, 2.58, 2.62, 2.7, 3.14, 3.0, 3.1, 2.92, 2.9, 2.42, 2.76, 3.1, 3.02, 3.3, 2.86, 3.08, 2.76, 2.88, 2.86, 3.26, 3.14, 2.72, 2.7, 3.02, 3.0, 3.22, 2.68, 2.98, 3.06, 2.84, 2.78, 3.04, 2.98, 3.04, 3.14, 2.72, 2.72, 3.14, 2.52, 3.04, 2.56, 3.16, 3.08, 2.56, 3.2, 2.78, 2.7, 2.92, 2.94, 3.24, 2.94, 2.82, 2.66, 2.8, 3.02, 2.9, 2.62, 3.34, 2.9, 2.58, 2.92, 2.8, 3.04, 2.54, 2.72, 2.4, 2.94, 2.78, 2.86, 3.08, 2.86, 2.86, 2.72, 2.98, 3.3, 3.04, 3.14, 2.9, 2.98, 2.76, 2.6, 2.62, 2.82, 2.74, 2.78, 2.78, 2.74, 2.98, 2.82, 2.7, 2.96, 3.1, 3.28, 2.94, 2.72, 3.22, 3.06, 2.62, 2.98, 2.74, 3.0, 2.9, 3.18, 2.8, 3.0, 2.4, 2.98, 3.18, 3.06, 3.18, 2.74, 2.94, 3.26, 2.76, 2.54, 3.2, 3.0, 3.18, 2.66, 2.64, 3.12, 2.84, 3.0, 3.42, 2.86, 3.18, 3.1, 3.06, 2.8, 3.02, 2.76, 2.94, 3.0, 2.94, 2.68, 3.1, 2.74, 2.88, 3.0, 2.88, 2.6, 2.94, 2.9, 2.56, 3.2, 2.58, 2.84, 2.78, 2.58, 2.4, 2.9, 2.98, 2.8, 3.12, 2.48, 2.8, 2.5, 3.08, 3.04, 3.04, 3.04, 2.74, 2.92, 3.02, 2.84, 2.94, 2.86, 2.94, 3.12, 2.74, 3.08, 3.18, 2.48, 3.34, 2.96, 3.02, 3.02, 2.9, 2.84, 2.66, 2.86, 2.58, 3.06, 2.82, 3.1, 3.06, 2.78, 2.7, 3.12, 3.1, 2.5, 2.6, 3.12, 2.96, 2.98, 3.0, 2.96, 3.06, 2.9, 3.22, 3.04, 2.98, 2.94, 3.1, 3.2, 2.82, 3.16, 3.32, 2.78, 2.78, 2.84, 2.78, 3.3, 3.02, 2.56, 2.78, 2.94, 2.54, 2.82, 2.98, 2.68, 2.96, 3.1, 3.14, 2.66, 2.92, 2.8, 2.5, 3.36, 2.8, 2.82, 2.84, 2.9, 2.74, 2.82, 2.86, 3.1, 3.04, 2.88, 2.94, 2.74, 3.0, 2.84, 2.7, 3.14, 2.82, 2.94, 3.28, 2.98, 2.96, 2.94, 3.18, 2.66, 3.1, 2.56, 3.18, 3.3, 2.62, 2.8, 3.16, 2.56, 3.12, 2.78, 2.84, 2.78, 3.04, 3.0, 2.52, 2.62, 2.7, 3.02, 2.8, 3.28, 2.98, 2.9, 2.96, 2.76, 2.78, 2.74, 2.92, 3.12, 2.88, 2.68, 3.02, 3.16, 2.98, 2.84, 3.2, 2.76, 3.24, 2.82, 3.04, 3.06, 3.0, 2.68, 2.66, 3.02, 2.82, 3.02, 3.02, 2.9, 2.76, 2.74, 3.08, 2.76, 2.8, 3.36, 3.0, 3.3, 2.76, 2.7, 2.76, 2.82, 2.84, 2.54, 2.98, 3.02, 2.66, 2.66, 2.84, 2.7, 3.06, 3.26, 2.92, 3.1, 3.0, 3.24, 2.84, 3.0, 2.88, 2.96, 2.62, 3.24, 2.84, 2.96, 2.68, 2.74, 2.86, 2.36, 3.0, 2.56, 2.74, 2.82, 3.24, 3.16, 2.66, 2.68, 2.24, 3.06, 3.08, 2.94, 2.94, 2.94, 3.14, 2.5, 2.76, 2.7, 3.14, 3.0, 3.08, 2.68, 2.92, 3.0, 3.0, 3.0, 2.32, 2.7, 2.86, 2.94, 2.98, 3.04, 2.78, 3.04, 3.04, 2.92, 2.76, 3.28, 2.86, 2.78, 2.88, 2.88, 2.88, 3.18, 2.88, 2.9, 3.28, 3.12, 2.66, 3.02, 3.04, 2.64, 2.9, 3.12, 3.14, 2.8, 2.8, 2.88, 2.82, 2.88, 3.18, 2.7, 2.88, 2.94, 3.1, 2.92, 3.04, 3.02, 2.76, 3.0, 2.74, 3.02, 2.96, 2.66, 2.92, 3.16, 2.78, 2.72, 3.0, 2.9, 2.98, 3.0, 2.86, 2.98, 2.34, 2.9, 2.98, 2.68, 2.8, 2.74, 2.82, 2.82, 3.06, 2.8, 2.82, 2.86, 2.68, 2.54, 2.68, 2.88, 2.7, 2.62, 2.52, 3.0, 2.8, 3.2, 3.02, 2.96, 2.96, 2.64, 3.06, 2.92, 2.8, 2.62, 2.8, 2.88, 2.94, 2.66, 2.8, 3.14, 3.06, 3.0, 3.36, 2.72, 2.74, 2.98, 3.12, 2.92, 3.16, 2.7, 3.2, 2.78, 3.2, 2.86, 2.74, 3.12, 3.0, 2.82, 2.68, 2.56, 2.6, 2.8, 2.64, 3.18, 2.7, 2.74, 3.08, 2.68, 2.52, 3.12, 2.72, 3.06, 2.66, 2.96, 3.28, 2.78, 2.74, 2.8, 2.72, 2.94, 2.82, 2.68, 2.94, 2.78, 3.42, 2.92, 2.56, 3.0, 2.78, 3.16, 2.92, 2.74, 2.78, 2.9, 2.56, 2.86, 3.08, 2.88, 2.56, 2.82, 3.04, 3.06, 3.16, 2.42, 2.96, 2.86, 2.38, 2.98, 2.98, 2.96, 2.66, 2.3, 2.96, 2.72, 3.06, 2.72, 2.94, 2.76, 3.24, 2.94, 2.94, 2.78, 2.68, 3.06, 2.54, 2.82, 3.0, 3.06, 3.16, 2.86, 3.26, 2.62, 2.88, 2.88, 2.84, 2.82, 3.0, 2.6, 3.02, 2.96, 3.08, 2.92, 2.98, 3.1, 3.04, 3.12, 2.78, 2.8, 2.96, 2.74, 2.78, 2.8, 2.62, 3.04, 2.64, 3.16, 2.76, 2.82, 2.8, 3.2, 2.86, 2.76, 3.0, 2.88, 2.84, 2.92, 2.7, 3.06, 2.7, 2.78, 2.46, 3.12, 3.02, 3.32, 2.82, 3.1, 2.76, 2.76, 2.32, 2.9, 2.8, 3.2, 2.72, 3.18, 2.92, 2.72, 2.78, 2.86, 3.12, 2.98, 2.82, 2.5, 2.9, 2.96, 2.98, 2.94, 2.56, 2.66, 2.84, 3.26, 2.98, 2.88, 3.06, 2.6, 3.46, 2.84, 2.88]\n"
     ]
    }
   ],
   "source": [
    "num_simulations = 1000\n",
    "means_list = [generate_random_X_values(pmf) for _ in range(num_simulations)]\n",
    "print(means_list)"
   ]
  },
  {
   "cell_type": "markdown",
   "id": "57a90146",
   "metadata": {},
   "source": [
    "## 1d)"
   ]
  },
  {
   "cell_type": "code",
   "execution_count": 38,
   "id": "736d50c7",
   "metadata": {},
   "outputs": [
    {
     "data": {
      "image/png": "[encoded data removed]",
      "text/plain": [
       "<Figure size 640x480 with 1 Axes>"
      ]
     },
     "metadata": {},
     "output_type": "display_data"
    },
    {
     "name": "stdout",
     "output_type": "stream",
     "text": [
      "The histogram appears to be approximately normally distributed, which aligns with the Central Limit Theorem.\n"
     ]
    }
   ],
   "source": [
    "import matplotlib.pyplot as plt\n",
    "\n",
    "plt.hist(means_list, bins=20, edgecolor='black', color='royalblue')  \n",
    "plt.title('')\n",
    "plt.xlabel('Mean')\n",
    "plt.ylabel('Frequency')\n",
    "plt.show()\n",
    "\n",
    "print(\"The histogram appears to be approximately normally distributed, which aligns with the Central Limit Theorem.\")"
   ]
  },
  {
   "cell_type": "markdown",
   "id": "eda040d9",
   "metadata": {},
   "source": [
    "## 1e)"
   ]
  },
  {
   "cell_type": "code",
   "execution_count": 39,
   "id": "3fb4e45b",
   "metadata": {},
   "outputs": [
    {
     "name": "stdout",
     "output_type": "stream",
     "text": [
      "Mean of Means: 2.89 (Theoretical: 3.0)\n",
      "Standard Deviation of Means: 0.20 (Theoretical: 1.4142135623730951)\n"
     ]
    }
   ],
   "source": [
    "# Calculate the mean and standard deviation of the list of means\n",
    "mean_of_means = np.mean(means_list)\n",
    "std_dev_of_means = np.std(means_list)\n",
    "\n",
    "# Theoretical values for mean and standard deviation\n",
    "theoretical_mean = np.mean(list(pmf.keys()))\n",
    "theoretical_std_dev = np.std(list(pmf.keys()))\n",
    "\n",
    "print(f\"Mean of Means: {mean_of_means:.2f} (Theoretical: {theoretical_mean})\")\n",
    "print(f\"Standard Deviation of Means: {std_dev_of_means:.2f} (Theoretical: {theoretical_std_dev})\")\n"
   ]
  }
 ],
 "metadata": {
  "kernelspec": {
   "display_name": "Python 3 (ipykernel)",
   "language": "python",
   "name": "python3"
  },
  "language_info": {
   "codemirror_mode": {
    "name": "ipython",
    "version": 3
   },
   "file_extension": ".py",
   "mimetype": "text/x-python",
   "name": "python",
   "nbconvert_exporter": "python",
   "pygments_lexer": "ipython3",
   "version": "3.11.4"
  }
 },
 "nbformat": 4,
 "nbformat_minor": 5
}
