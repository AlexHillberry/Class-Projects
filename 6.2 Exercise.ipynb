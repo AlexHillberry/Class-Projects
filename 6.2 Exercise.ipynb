{
 "cells": [
  {
   "cell_type": "markdown",
   "id": "d2995fc4",
   "metadata": {},
   "source": [
    "# 6.2 Exercise\n",
    "\n",
    "# Alexander Hillberry\n",
    "\n",
    "# DSC320-T301"
   ]
  },
  {
   "cell_type": "markdown",
   "id": "0b0e3d2d",
   "metadata": {},
   "source": [
    "## Data Normalization\n",
    "\n",
    "### 1)\n"
   ]
  },
  {
   "cell_type": "code",
   "execution_count": 15,
   "id": "aa3f9584",
   "metadata": {},
   "outputs": [],
   "source": [
    "#Import libraries\n",
    "import numpy as np\n",
    "\n",
    "def normalize_data(data):\n",
    "    min_val = np.min(data)\n",
    "    max_val = np.max(data)\n",
    "    normalized_data = (data - min_val) / (max_val - min_val)\n",
    "    return normalized_data\n"
   ]
  },
  {
   "cell_type": "markdown",
   "id": "8b782e7c",
   "metadata": {},
   "source": [
    "## Data Standardization\n",
    "\n",
    "### 2)"
   ]
  },
  {
   "cell_type": "code",
   "execution_count": 16,
   "id": "9dd9e065",
   "metadata": {},
   "outputs": [],
   "source": [
    "#Import libraries\n",
    "from sklearn.preprocessing import StandardScaler\n",
    "\n",
    "def standardize_data(data):\n",
    "    scaler = StandardScaler()\n",
    "    standardized_data = scaler.fit_transform(np.array(data).reshape(-1, 1)).flatten()\n",
    "    return standardized_data\n"
   ]
  },
  {
   "cell_type": "markdown",
   "id": "fcab3fe4",
   "metadata": {},
   "source": [
    "## Working with a Dataframe\n",
    "\n",
    "### 3)"
   ]
  },
  {
   "cell_type": "markdown",
   "id": "f60c0216",
   "metadata": {},
   "source": [
    "### a)"
   ]
  },
  {
   "cell_type": "code",
   "execution_count": 45,
   "id": "abbe9d9b",
   "metadata": {},
   "outputs": [
    {
     "name": "stdout",
     "output_type": "stream",
     "text": [
      "Number of rows: 20640\n"
     ]
    }
   ],
   "source": [
    "#Import libraries\n",
    "import pandas as pd\n",
    "from sklearn.preprocessing import StandardScaler\n",
    "# Load the data\n",
    "file_path = r'D:\\OneDrive - Bellevue University\\DSC 320\\calif_housing_data.csv'\n",
    "housing_data = pd.read_csv(file_path)\n",
    "\n",
    "# Number of rows\n",
    "num_rows = len(housing_data)\n",
    "print(\"Number of rows:\", num_rows)"
   ]
  },
  {
   "cell_type": "markdown",
   "id": "a6c80836",
   "metadata": {},
   "source": [
    "### b)"
   ]
  },
  {
   "cell_type": "code",
   "execution_count": 33,
   "id": "29bd9ce3",
   "metadata": {},
   "outputs": [],
   "source": [
    "# Name the target vector\n",
    "target_vector = housing_data['median_house_value']"
   ]
  },
  {
   "cell_type": "markdown",
   "id": "7b0dcd9e",
   "metadata": {},
   "source": [
    "Since we are building a model to predict the median house value, the variable that is the target vector is that which we are trying to predict. In this case, that is the median house value listed as median_house_value."
   ]
  },
  {
   "cell_type": "markdown",
   "id": "c5b8c3e0",
   "metadata": {},
   "source": [
    "### c)"
   ]
  },
  {
   "cell_type": "code",
   "execution_count": 36,
   "id": "c2fc69e8",
   "metadata": {},
   "outputs": [],
   "source": [
    "# (c) Create new feature\n",
    "housing_data['bedrooms_per_household'] = housing_data['total_bedrooms'] / housing_data['households']"
   ]
  },
  {
   "cell_type": "markdown",
   "id": "cf84f5d3",
   "metadata": {},
   "source": [
    "The feature represents the average number of bedrooms per household. It tells us the different levels of the housing on each block.  Higher values might suggest larger households or more bedrooms per household, while lower values might suggest smaller households or fewer bedrooms per household. For each block, we can anticipate the relative size per block and make further assumptions when comparing this feature against others. "
   ]
  },
  {
   "cell_type": "markdown",
   "id": "f5b447c6",
   "metadata": {},
   "source": [
    "### d)"
   ]
  },
  {
   "cell_type": "code",
   "execution_count": 51,
   "id": "2c1fd4ec",
   "metadata": {},
   "outputs": [
    {
     "name": "stdout",
     "output_type": "stream",
     "text": [
      "Selected DataFrame:\n",
      "   housing_median_age  median_income  bedrooms_per_household\n",
      "0                  41         8.3252                1.023810\n",
      "1                  21         8.3014                0.971880\n",
      "2                  52         7.2574                1.073446\n",
      "3                  52         5.6431                1.073059\n",
      "4                  52         3.8462                1.081081\n"
     ]
    }
   ],
   "source": [
    "# Create new feature\n",
    "housing_data['bedrooms_per_household'] = housing_data['total_bedrooms'] / housing_data['households']\n",
    "\n",
    "# Create new dataframe with the right amount of features\n",
    "selected_features = ['housing_median_age', 'median_income', 'bedrooms_per_household']\n",
    "selected_df = housing_data[selected_features].copy()\n",
    "\n",
    "# Print dataframe\n",
    "print(\"Selected DataFrame:\")\n",
    "print(selected_df.head())\n"
   ]
  },
  {
   "cell_type": "markdown",
   "id": "7808fc84",
   "metadata": {},
   "source": [
    "### e)"
   ]
  },
  {
   "cell_type": "code",
   "execution_count": 53,
   "id": "a7379267",
   "metadata": {},
   "outputs": [
    {
     "name": "stdout",
     "output_type": "stream",
     "text": [
      "Standardized DataFrame:\n",
      "   housing_median_age  median_income  bedrooms_per_household\n",
      "0            0.982143       2.344766               -0.153863\n",
      "1           -0.607019       2.332238               -0.262936\n",
      "2            1.856182       1.782699               -0.049604\n",
      "3            1.856182       0.932968               -0.050417\n",
      "4            1.856182      -0.012881               -0.033568\n"
     ]
    }
   ],
   "source": [
    "# Standardize using scikit\n",
    "scaler = StandardScaler()\n",
    "selected_df.loc[:, selected_features] = scaler.fit_transform(selected_df[selected_features])\n",
    "\n",
    "# Print the standardized DataFrame\n",
    "print(\"Standardized DataFrame:\")\n",
    "print(selected_df.head())\n"
   ]
  },
  {
   "cell_type": "code",
   "execution_count": null,
   "id": "a0909623",
   "metadata": {},
   "outputs": [],
   "source": []
  }
 ],
 "metadata": {
  "kernelspec": {
   "display_name": "Python 3 (ipykernel)",
   "language": "python",
   "name": "python3"
  },
  "language_info": {
   "codemirror_mode": {
    "name": "ipython",
    "version": 3
   },
   "file_extension": ".py",
   "mimetype": "text/x-python",
   "name": "python",
   "nbconvert_exporter": "python",
   "pygments_lexer": "ipython3",
   "version": "3.11.4"
  }
 },
 "nbformat": 4,
 "nbformat_minor": 5
}
